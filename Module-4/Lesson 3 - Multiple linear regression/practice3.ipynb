{
 "cells": [
  {
   "cell_type": "code",
   "execution_count": 1,
   "id": "313ac8f1-f286-4afa-a0f9-bd5d8f58e957",
   "metadata": {},
   "outputs": [],
   "source": [
    "import pandas as pd\n",
    "import numpy as np\n",
    "import matplotlib.pyplot as plt\n",
    "import seaborn as sns\n",
    "import scipy.stats as stats\n",
    "import statsmodels.api as sm"
   ]
  },
  {
   "cell_type": "code",
   "execution_count": 2,
   "id": "c0421342-4feb-49a8-8e8b-c43241af606b",
   "metadata": {},
   "outputs": [
    {
     "data": {
      "text/html": [
       "<div>\n",
       "<style scoped>\n",
       "    .dataframe tbody tr th:only-of-type {\n",
       "        vertical-align: middle;\n",
       "    }\n",
       "\n",
       "    .dataframe tbody tr th {\n",
       "        vertical-align: top;\n",
       "    }\n",
       "\n",
       "    .dataframe thead th {\n",
       "        text-align: right;\n",
       "    }\n",
       "</style>\n",
       "<table border=\"1\" class=\"dataframe\">\n",
       "  <thead>\n",
       "    <tr style=\"text-align: right;\">\n",
       "      <th></th>\n",
       "      <th>carat</th>\n",
       "      <th>cut</th>\n",
       "      <th>color</th>\n",
       "      <th>clarity</th>\n",
       "      <th>depth</th>\n",
       "      <th>table</th>\n",
       "      <th>price</th>\n",
       "      <th>x</th>\n",
       "      <th>y</th>\n",
       "      <th>z</th>\n",
       "    </tr>\n",
       "  </thead>\n",
       "  <tbody>\n",
       "    <tr>\n",
       "      <th>0</th>\n",
       "      <td>0.23</td>\n",
       "      <td>Ideal</td>\n",
       "      <td>E</td>\n",
       "      <td>SI2</td>\n",
       "      <td>61.5</td>\n",
       "      <td>55.0</td>\n",
       "      <td>326</td>\n",
       "      <td>3.95</td>\n",
       "      <td>3.98</td>\n",
       "      <td>2.43</td>\n",
       "    </tr>\n",
       "    <tr>\n",
       "      <th>1</th>\n",
       "      <td>0.21</td>\n",
       "      <td>Premium</td>\n",
       "      <td>E</td>\n",
       "      <td>SI1</td>\n",
       "      <td>59.8</td>\n",
       "      <td>61.0</td>\n",
       "      <td>326</td>\n",
       "      <td>3.89</td>\n",
       "      <td>3.84</td>\n",
       "      <td>2.31</td>\n",
       "    </tr>\n",
       "    <tr>\n",
       "      <th>2</th>\n",
       "      <td>0.23</td>\n",
       "      <td>Good</td>\n",
       "      <td>E</td>\n",
       "      <td>VS1</td>\n",
       "      <td>56.9</td>\n",
       "      <td>65.0</td>\n",
       "      <td>327</td>\n",
       "      <td>4.05</td>\n",
       "      <td>4.07</td>\n",
       "      <td>2.31</td>\n",
       "    </tr>\n",
       "    <tr>\n",
       "      <th>3</th>\n",
       "      <td>0.29</td>\n",
       "      <td>Premium</td>\n",
       "      <td>I</td>\n",
       "      <td>VS2</td>\n",
       "      <td>62.4</td>\n",
       "      <td>58.0</td>\n",
       "      <td>334</td>\n",
       "      <td>4.20</td>\n",
       "      <td>4.23</td>\n",
       "      <td>2.63</td>\n",
       "    </tr>\n",
       "    <tr>\n",
       "      <th>4</th>\n",
       "      <td>0.31</td>\n",
       "      <td>Good</td>\n",
       "      <td>J</td>\n",
       "      <td>SI2</td>\n",
       "      <td>63.3</td>\n",
       "      <td>58.0</td>\n",
       "      <td>335</td>\n",
       "      <td>4.34</td>\n",
       "      <td>4.35</td>\n",
       "      <td>2.75</td>\n",
       "    </tr>\n",
       "  </tbody>\n",
       "</table>\n",
       "</div>"
      ],
      "text/plain": [
       "   carat      cut color clarity  depth  table  price     x     y     z\n",
       "0   0.23    Ideal     E     SI2   61.5   55.0    326  3.95  3.98  2.43\n",
       "1   0.21  Premium     E     SI1   59.8   61.0    326  3.89  3.84  2.31\n",
       "2   0.23     Good     E     VS1   56.9   65.0    327  4.05  4.07  2.31\n",
       "3   0.29  Premium     I     VS2   62.4   58.0    334  4.20  4.23  2.63\n",
       "4   0.31     Good     J     SI2   63.3   58.0    335  4.34  4.35  2.75"
      ]
     },
     "execution_count": 2,
     "metadata": {},
     "output_type": "execute_result"
    }
   ],
   "source": [
    "df = pd.read_csv('diamonds.csv')\n",
    "df.head()"
   ]
  },
  {
   "cell_type": "code",
   "execution_count": 4,
   "id": "da8c2a25-24ca-4cb4-98ee-fb2742e6c9fe",
   "metadata": {},
   "outputs": [],
   "source": [
    "# multiple linear regression model\n",
    "predictors = [\n",
    "    'carat',\n",
    "    'x'\n",
    "]\n",
    "\n",
    "Y = df['price']\n",
    "X = sm.add_constant(df[predictors])\n",
    "model = sm.OLS(Y, X)\n",
    "results = model.fit()"
   ]
  },
  {
   "cell_type": "code",
   "execution_count": 5,
   "id": "390ec091-2057-4ac0-be1f-cc6fc1c280b9",
   "metadata": {},
   "outputs": [
    {
     "data": {
      "text/html": [
       "<div>\n",
       "<style scoped>\n",
       "    .dataframe tbody tr th:only-of-type {\n",
       "        vertical-align: middle;\n",
       "    }\n",
       "\n",
       "    .dataframe tbody tr th {\n",
       "        vertical-align: top;\n",
       "    }\n",
       "\n",
       "    .dataframe thead th {\n",
       "        text-align: right;\n",
       "    }\n",
       "</style>\n",
       "<table border=\"1\" class=\"dataframe\">\n",
       "  <thead>\n",
       "    <tr style=\"text-align: right;\">\n",
       "      <th></th>\n",
       "      <th>const</th>\n",
       "      <th>carat</th>\n",
       "      <th>x</th>\n",
       "    </tr>\n",
       "  </thead>\n",
       "  <tbody>\n",
       "    <tr>\n",
       "      <th>0</th>\n",
       "      <td>1.0</td>\n",
       "      <td>0.23</td>\n",
       "      <td>3.95</td>\n",
       "    </tr>\n",
       "    <tr>\n",
       "      <th>1</th>\n",
       "      <td>1.0</td>\n",
       "      <td>0.21</td>\n",
       "      <td>3.89</td>\n",
       "    </tr>\n",
       "    <tr>\n",
       "      <th>2</th>\n",
       "      <td>1.0</td>\n",
       "      <td>0.23</td>\n",
       "      <td>4.05</td>\n",
       "    </tr>\n",
       "    <tr>\n",
       "      <th>3</th>\n",
       "      <td>1.0</td>\n",
       "      <td>0.29</td>\n",
       "      <td>4.20</td>\n",
       "    </tr>\n",
       "    <tr>\n",
       "      <th>4</th>\n",
       "      <td>1.0</td>\n",
       "      <td>0.31</td>\n",
       "      <td>4.34</td>\n",
       "    </tr>\n",
       "    <tr>\n",
       "      <th>...</th>\n",
       "      <td>...</td>\n",
       "      <td>...</td>\n",
       "      <td>...</td>\n",
       "    </tr>\n",
       "    <tr>\n",
       "      <th>53936</th>\n",
       "      <td>1.0</td>\n",
       "      <td>0.72</td>\n",
       "      <td>5.75</td>\n",
       "    </tr>\n",
       "    <tr>\n",
       "      <th>53937</th>\n",
       "      <td>1.0</td>\n",
       "      <td>0.72</td>\n",
       "      <td>5.69</td>\n",
       "    </tr>\n",
       "    <tr>\n",
       "      <th>53938</th>\n",
       "      <td>1.0</td>\n",
       "      <td>0.70</td>\n",
       "      <td>5.66</td>\n",
       "    </tr>\n",
       "    <tr>\n",
       "      <th>53939</th>\n",
       "      <td>1.0</td>\n",
       "      <td>0.86</td>\n",
       "      <td>6.15</td>\n",
       "    </tr>\n",
       "    <tr>\n",
       "      <th>53940</th>\n",
       "      <td>1.0</td>\n",
       "      <td>0.75</td>\n",
       "      <td>5.83</td>\n",
       "    </tr>\n",
       "  </tbody>\n",
       "</table>\n",
       "<p>53941 rows × 3 columns</p>\n",
       "</div>"
      ],
      "text/plain": [
       "       const  carat     x\n",
       "0        1.0   0.23  3.95\n",
       "1        1.0   0.21  3.89\n",
       "2        1.0   0.23  4.05\n",
       "3        1.0   0.29  4.20\n",
       "4        1.0   0.31  4.34\n",
       "...      ...    ...   ...\n",
       "53936    1.0   0.72  5.75\n",
       "53937    1.0   0.72  5.69\n",
       "53938    1.0   0.70  5.66\n",
       "53939    1.0   0.86  6.15\n",
       "53940    1.0   0.75  5.83\n",
       "\n",
       "[53941 rows x 3 columns]"
      ]
     },
     "execution_count": 5,
     "metadata": {},
     "output_type": "execute_result"
    }
   ],
   "source": [
    "X"
   ]
  },
  {
   "cell_type": "code",
   "execution_count": 6,
   "id": "b873e1b6-ad71-4787-b181-7a01a50b0c56",
   "metadata": {},
   "outputs": [
    {
     "name": "stdout",
     "output_type": "stream",
     "text": [
      "                            OLS Regression Results                            \n",
      "==============================================================================\n",
      "Dep. Variable:                  price   R-squared:                       0.853\n",
      "Model:                            OLS   Adj. R-squared:                  0.853\n",
      "Method:                 Least Squares   F-statistic:                 1.570e+05\n",
      "Date:                Thu, 08 May 2025   Prob (F-statistic):               0.00\n",
      "Time:                        12:15:16   Log-Likelihood:            -4.7199e+05\n",
      "No. Observations:               53941   AIC:                         9.440e+05\n",
      "Df Residuals:                   53938   BIC:                         9.440e+05\n",
      "Df Model:                           2                                         \n",
      "Covariance Type:            nonrobust                                         \n",
      "==============================================================================\n",
      "                 coef    std err          t      P>|t|      [0.025      0.975]\n",
      "------------------------------------------------------------------------------\n",
      "const       1737.7139    103.622     16.770      0.000    1534.614    1940.813\n",
      "carat       1.013e+04     62.553    161.875      0.000       1e+04    1.02e+04\n",
      "x          -1026.7889     26.433    -38.846      0.000   -1078.597    -974.981\n",
      "==============================================================================\n",
      "Omnibus:                    14014.695   Durbin-Watson:                   2.003\n",
      "Prob(Omnibus):                  0.000   Jarque-Bera (JB):           317491.361\n",
      "Skew:                           0.717   Prob(JB):                         0.00\n",
      "Kurtosis:                      14.799   Cond. No.                         112.\n",
      "==============================================================================\n",
      "\n",
      "Notes:\n",
      "[1] Standard Errors assume that the covariance matrix of the errors is correctly specified.\n"
     ]
    }
   ],
   "source": [
    "print(results.summary())"
   ]
  },
  {
   "cell_type": "code",
   "execution_count": 7,
   "id": "7dbe2342-e741-4ffc-87b9-0ea3a9b516b2",
   "metadata": {},
   "outputs": [
    {
     "data": {
      "text/plain": [
       "carat       1.5\n",
       "cut        Good\n",
       "color         I\n",
       "clarity     SI1\n",
       "depth      64.0\n",
       "table      60.0\n",
       "price      8580\n",
       "x          7.13\n",
       "y          7.25\n",
       "z           4.6\n",
       "Name: 20107, dtype: object"
      ]
     },
     "execution_count": 7,
     "metadata": {},
     "output_type": "execute_result"
    }
   ],
   "source": [
    "df.loc[20107]"
   ]
  },
  {
   "cell_type": "code",
   "execution_count": 8,
   "id": "4c9a575e-af1c-46d1-9c90-ab24169ba8c0",
   "metadata": {},
   "outputs": [],
   "source": [
    "carat = 1.5\n",
    "x = 7.13\n",
    "m1 = results.params['carat']\n",
    "m2 = results.params['x']\n",
    "b = results.params['const']\n",
    "price = m1*carat + m2*x + b"
   ]
  },
  {
   "cell_type": "code",
   "execution_count": 9,
   "id": "bcc0c3e2-5a93-4976-b41b-2c98319f7446",
   "metadata": {},
   "outputs": [
    {
     "name": "stdout",
     "output_type": "stream",
     "text": [
      "9605.36613408892\n"
     ]
    }
   ],
   "source": [
    "print(price)"
   ]
  },
  {
   "cell_type": "code",
   "execution_count": 10,
   "id": "970ee6de-5f09-4d65-883f-9211c227dc23",
   "metadata": {},
   "outputs": [],
   "source": [
    "# multiple linear regression model\n",
    "predictors = [\n",
    "    'carat',\n",
    "    'x',\n",
    "    'y',\n",
    "    'z'\n",
    "]\n",
    "\n",
    "Y = df['price']\n",
    "X = sm.add_constant(df[predictors])\n",
    "model = sm.OLS(Y, X)\n",
    "results = model.fit()"
   ]
  },
  {
   "cell_type": "code",
   "execution_count": 11,
   "id": "a4aef949-069e-41df-80a7-fb1bb3a882ca",
   "metadata": {},
   "outputs": [
    {
     "name": "stdout",
     "output_type": "stream",
     "text": [
      "                            OLS Regression Results                            \n",
      "==============================================================================\n",
      "Dep. Variable:                  price   R-squared:                       0.854\n",
      "Model:                            OLS   Adj. R-squared:                  0.854\n",
      "Method:                 Least Squares   F-statistic:                 7.892e+04\n",
      "Date:                Thu, 08 May 2025   Prob (F-statistic):               0.00\n",
      "Time:                        12:19:12   Log-Likelihood:            -4.7188e+05\n",
      "No. Observations:               53941   AIC:                         9.438e+05\n",
      "Df Residuals:                   53936   BIC:                         9.438e+05\n",
      "Df Model:                           4                                         \n",
      "Covariance Type:            nonrobust                                         \n",
      "==============================================================================\n",
      "                 coef    std err          t      P>|t|      [0.025      0.975]\n",
      "------------------------------------------------------------------------------\n",
      "const       1921.0000    104.372     18.405      0.000    1716.429    2125.571\n",
      "carat       1.023e+04     62.936    162.606      0.000    1.01e+04    1.04e+04\n",
      "x           -884.0663     40.470    -21.845      0.000    -963.387    -804.746\n",
      "y            166.0140     25.858      6.420      0.000     115.332     216.696\n",
      "z           -576.3115     39.282    -14.671      0.000    -653.304    -499.319\n",
      "==============================================================================\n",
      "Omnibus:                    14401.763   Durbin-Watson:                   2.002\n",
      "Prob(Omnibus):                  0.000   Jarque-Bera (JB):           336488.351\n",
      "Skew:                           0.743   Prob(JB):                         0.00\n",
      "Kurtosis:                      15.145   Cond. No.                         171.\n",
      "==============================================================================\n",
      "\n",
      "Notes:\n",
      "[1] Standard Errors assume that the covariance matrix of the errors is correctly specified.\n"
     ]
    }
   ],
   "source": [
    "print(results.summary())"
   ]
  },
  {
   "cell_type": "code",
   "execution_count": 12,
   "id": "ef064b95-2773-47b7-bc15-8b4efb74be67",
   "metadata": {},
   "outputs": [],
   "source": [
    "carat = 1.5\n",
    "x = 7.13\n",
    "y = 7.25\n",
    "z = 4.6\n",
    "m1 = results.params['carat']\n",
    "m2 = results.params['x']\n",
    "m3 = results.params['y']\n",
    "m4 = results.params['z']\n",
    "b = results.params['const']\n",
    "\n",
    "price = m1*carat + m2*x + m3*y + m4*z + b"
   ]
  },
  {
   "cell_type": "code",
   "execution_count": 13,
   "id": "7f48b515-9fe3-43af-b9c2-850026cb5b8c",
   "metadata": {},
   "outputs": [
    {
     "name": "stdout",
     "output_type": "stream",
     "text": [
      "9520.783644767513\n"
     ]
    }
   ],
   "source": [
    "print(price)"
   ]
  },
  {
   "cell_type": "code",
   "execution_count": 14,
   "id": "26db9b91-ba16-4536-a175-31ce194bc668",
   "metadata": {},
   "outputs": [
    {
     "name": "stdout",
     "output_type": "stream",
     "text": [
      "['D' 'E' 'F' 'G' 'H' 'I' 'J']\n"
     ]
    }
   ],
   "source": [
    "print(pd.unique(df['color'].sort_values()))"
   ]
  },
  {
   "cell_type": "code",
   "execution_count": 17,
   "id": "55cdf8c5-4b5e-4b9e-86bd-090c5aedd3af",
   "metadata": {},
   "outputs": [
    {
     "name": "stderr",
     "output_type": "stream",
     "text": [
      "/tmp/ipykernel_91/3636776757.py:5: FutureWarning: \n",
      "\n",
      "Passing `palette` without assigning `hue` is deprecated and will be removed in v0.14.0. Assign the `x` variable to `hue` and set `legend=False` for the same effect.\n",
      "\n",
      "  sns.barplot(df, x='color', y='price', order=color_order, palette='YlOrBr')\n"
     ]
    },
    {
     "data": {
      "image/png": "[encoded data removed]",
      "text/plain": [
       "<Figure size 640x480 with 1 Axes>"
      ]
     },
     "metadata": {},
     "output_type": "display_data"
    }
   ],
   "source": [
    "# Set the order of colors from D to J\n",
    "color_order = ['D', 'E', 'F', 'G', 'H', 'I', 'J']\n",
    "\n",
    "# create the barplot\n",
    "sns.barplot(df, x='color', y='price', order=color_order, palette='YlOrBr')\n",
    "\n",
    "# Customize plot\n",
    "plt.title('Average Price by Diamond Color')\n",
    "plt.xlabel('Color')\n",
    "plt.ylabel('Average Price')\n",
    "plt.show()"
   ]
  },
  {
   "cell_type": "code",
   "execution_count": 21,
   "id": "205aa126-571c-4c28-9738-a17f80e30db2",
   "metadata": {},
   "outputs": [],
   "source": [
    "predictors = [\n",
    "    'carat',\n",
    "    'color'\n",
    "]\n",
    "\n",
    "Y = df['price']\n",
    "X = sm.add_constant(pd.get_dummies(df[predictors], columns=['color'], drop_first=True, dtype=int))"
   ]
  },
  {
   "cell_type": "code",
   "execution_count": 22,
   "id": "676a1b61-b58f-4b6e-9f05-8facb5ca732e",
   "metadata": {},
   "outputs": [
    {
     "data": {
      "text/html": [
       "<div>\n",
       "<style scoped>\n",
       "    .dataframe tbody tr th:only-of-type {\n",
       "        vertical-align: middle;\n",
       "    }\n",
       "\n",
       "    .dataframe tbody tr th {\n",
       "        vertical-align: top;\n",
       "    }\n",
       "\n",
       "    .dataframe thead th {\n",
       "        text-align: right;\n",
       "    }\n",
       "</style>\n",
       "<table border=\"1\" class=\"dataframe\">\n",
       "  <thead>\n",
       "    <tr style=\"text-align: right;\">\n",
       "      <th></th>\n",
       "      <th>const</th>\n",
       "      <th>carat</th>\n",
       "      <th>color_E</th>\n",
       "      <th>color_F</th>\n",
       "      <th>color_G</th>\n",
       "      <th>color_H</th>\n",
       "      <th>color_I</th>\n",
       "      <th>color_J</th>\n",
       "    </tr>\n",
       "  </thead>\n",
       "  <tbody>\n",
       "    <tr>\n",
       "      <th>0</th>\n",
       "      <td>1.0</td>\n",
       "      <td>0.23</td>\n",
       "      <td>1</td>\n",
       "      <td>0</td>\n",
       "      <td>0</td>\n",
       "      <td>0</td>\n",
       "      <td>0</td>\n",
       "      <td>0</td>\n",
       "    </tr>\n",
       "    <tr>\n",
       "      <th>1</th>\n",
       "      <td>1.0</td>\n",
       "      <td>0.21</td>\n",
       "      <td>1</td>\n",
       "      <td>0</td>\n",
       "      <td>0</td>\n",
       "      <td>0</td>\n",
       "      <td>0</td>\n",
       "      <td>0</td>\n",
       "    </tr>\n",
       "    <tr>\n",
       "      <th>2</th>\n",
       "      <td>1.0</td>\n",
       "      <td>0.23</td>\n",
       "      <td>1</td>\n",
       "      <td>0</td>\n",
       "      <td>0</td>\n",
       "      <td>0</td>\n",
       "      <td>0</td>\n",
       "      <td>0</td>\n",
       "    </tr>\n",
       "    <tr>\n",
       "      <th>3</th>\n",
       "      <td>1.0</td>\n",
       "      <td>0.29</td>\n",
       "      <td>0</td>\n",
       "      <td>0</td>\n",
       "      <td>0</td>\n",
       "      <td>0</td>\n",
       "      <td>1</td>\n",
       "      <td>0</td>\n",
       "    </tr>\n",
       "    <tr>\n",
       "      <th>4</th>\n",
       "      <td>1.0</td>\n",
       "      <td>0.31</td>\n",
       "      <td>0</td>\n",
       "      <td>0</td>\n",
       "      <td>0</td>\n",
       "      <td>0</td>\n",
       "      <td>0</td>\n",
       "      <td>1</td>\n",
       "    </tr>\n",
       "  </tbody>\n",
       "</table>\n",
       "</div>"
      ],
      "text/plain": [
       "   const  carat  color_E  color_F  color_G  color_H  color_I  color_J\n",
       "0    1.0   0.23        1        0        0        0        0        0\n",
       "1    1.0   0.21        1        0        0        0        0        0\n",
       "2    1.0   0.23        1        0        0        0        0        0\n",
       "3    1.0   0.29        0        0        0        0        1        0\n",
       "4    1.0   0.31        0        0        0        0        0        1"
      ]
     },
     "execution_count": 22,
     "metadata": {},
     "output_type": "execute_result"
    }
   ],
   "source": [
    "X.head()"
   ]
  },
  {
   "cell_type": "code",
   "execution_count": 23,
   "id": "6ef492bb-df75-4f2b-bb48-8e9adba49b23",
   "metadata": {},
   "outputs": [],
   "source": [
    "model = sm.OLS(Y, X)\n",
    "results = model.fit()"
   ]
  },
  {
   "cell_type": "code",
   "execution_count": 24,
   "id": "69e517f6-8307-47a4-a2fc-5524ee3e91b5",
   "metadata": {},
   "outputs": [
    {
     "name": "stdout",
     "output_type": "stream",
     "text": [
      "                            OLS Regression Results                            \n",
      "==============================================================================\n",
      "Dep. Variable:                  price   R-squared:                       0.864\n",
      "Model:                            OLS   Adj. R-squared:                  0.864\n",
      "Method:                 Least Squares   F-statistic:                 4.893e+04\n",
      "Date:                Thu, 08 May 2025   Prob (F-statistic):               0.00\n",
      "Time:                        13:30:38   Log-Likelihood:            -4.6998e+05\n",
      "No. Observations:               53941   AIC:                         9.400e+05\n",
      "Df Residuals:                   53933   BIC:                         9.401e+05\n",
      "Df Model:                           7                                         \n",
      "Covariance Type:            nonrobust                                         \n",
      "==============================================================================\n",
      "                 coef    std err          t      P>|t|      [0.025      0.975]\n",
      "------------------------------------------------------------------------------\n",
      "const      -2136.2196     20.122   -106.163      0.000   -2175.659   -2096.780\n",
      "carat       8066.6089     14.039    574.568      0.000    8039.091    8094.126\n",
      "color_E      -93.7813     23.252     -4.033      0.000    -139.355     -48.208\n",
      "color_F      -80.2617     23.404     -3.429      0.001    -126.135     -34.389\n",
      "color_G      -85.5347     22.670     -3.773      0.000    -129.967     -41.102\n",
      "color_H     -732.2382     24.353    -30.067      0.000    -779.971    -684.505\n",
      "color_I    -1055.7871     27.309    -38.661      0.000   -1109.313   -1002.261\n",
      "color_J    -1914.4651     33.777    -56.679      0.000   -1980.668   -1848.262\n",
      "==============================================================================\n",
      "Omnibus:                    12267.629   Durbin-Watson:                   1.999\n",
      "Prob(Omnibus):                  0.000   Jarque-Bera (JB):           165327.240\n",
      "Skew:                           0.719   Prob(JB):                         0.00\n",
      "Kurtosis:                      11.455   Cond. No.                         11.0\n",
      "==============================================================================\n",
      "\n",
      "Notes:\n",
      "[1] Standard Errors assume that the covariance matrix of the errors is correctly specified.\n"
     ]
    }
   ],
   "source": [
    "print(results.summary())"
   ]
  },
  {
   "cell_type": "code",
   "execution_count": 25,
   "id": "26bc5267-45d3-416e-a2c1-10a66004e8b9",
   "metadata": {},
   "outputs": [],
   "source": [
    "X_train = X[1000:]\n",
    "X_test = X[:1000]"
   ]
  },
  {
   "cell_type": "code",
   "execution_count": 26,
   "id": "654a1b00-0b35-4a8a-84bc-2cec2a031019",
   "metadata": {},
   "outputs": [],
   "source": [
    "Y_train = Y[1000:]\n",
    "Y_test = Y[:1000]"
   ]
  },
  {
   "cell_type": "code",
   "execution_count": 30,
   "id": "64f48e44-221f-42b3-8778-30cc7bea7011",
   "metadata": {},
   "outputs": [
    {
     "name": "stdout",
     "output_type": "stream",
     "text": [
      "1000 1000\n",
      "52941 52941\n"
     ]
    }
   ],
   "source": [
    "print(len(Y_test), len(Y_test))\n",
    "print(len(Y_train), len(Y_train))"
   ]
  },
  {
   "cell_type": "code",
   "execution_count": 31,
   "id": "4e12a650-cbd7-41b7-bff8-beeee272fc2b",
   "metadata": {},
   "outputs": [],
   "source": [
    "model = sm.OLS(Y_train, X_train)\n",
    "results = model.fit()"
   ]
  },
  {
   "cell_type": "code",
   "execution_count": 32,
   "id": "efd88456-2f2e-421d-b546-8878e5278248",
   "metadata": {},
   "outputs": [
    {
     "name": "stdout",
     "output_type": "stream",
     "text": [
      "                            OLS Regression Results                            \n",
      "==============================================================================\n",
      "Dep. Variable:                  price   R-squared:                       0.864\n",
      "Model:                            OLS   Adj. R-squared:                  0.864\n",
      "Method:                 Least Squares   F-statistic:                 4.805e+04\n",
      "Date:                Thu, 08 May 2025   Prob (F-statistic):               0.00\n",
      "Time:                        13:37:35   Log-Likelihood:            -4.6119e+05\n",
      "No. Observations:               52941   AIC:                         9.224e+05\n",
      "Df Residuals:                   52933   BIC:                         9.225e+05\n",
      "Df Model:                           7                                         \n",
      "Covariance Type:            nonrobust                                         \n",
      "==============================================================================\n",
      "                 coef    std err          t      P>|t|      [0.025      0.975]\n",
      "------------------------------------------------------------------------------\n",
      "const      -2136.8108     20.269   -105.421      0.000   -2176.539   -2097.083\n",
      "carat       8065.0644     14.164    569.426      0.000    8037.304    8092.825\n",
      "color_E      -94.2070     23.418     -4.023      0.000    -140.106     -48.308\n",
      "color_F      -77.4595     23.582     -3.285      0.001    -123.679     -31.239\n",
      "color_G      -85.7091     22.832     -3.754      0.000    -130.459     -40.959\n",
      "color_H     -729.6169     24.532    -29.742      0.000    -777.699    -681.535\n",
      "color_I    -1054.8711     27.539    -38.304      0.000   -1108.848   -1000.894\n",
      "color_J    -1914.1406     34.049    -56.217      0.000   -1980.877   -1847.405\n",
      "==============================================================================\n",
      "Omnibus:                    12058.480   Durbin-Watson:                   1.998\n",
      "Prob(Omnibus):                  0.000   Jarque-Bera (JB):           157926.577\n",
      "Skew:                           0.729   Prob(JB):                         0.00\n",
      "Kurtosis:                      11.335   Cond. No.                         11.0\n",
      "==============================================================================\n",
      "\n",
      "Notes:\n",
      "[1] Standard Errors assume that the covariance matrix of the errors is correctly specified.\n"
     ]
    }
   ],
   "source": [
    "print(results.summary())"
   ]
  },
  {
   "cell_type": "code",
   "execution_count": 33,
   "id": "5278dc45-4c99-46f1-b2c1-37e927eb8421",
   "metadata": {},
   "outputs": [],
   "source": [
    "diamond1 = X_test.loc[0]"
   ]
  },
  {
   "cell_type": "code",
   "execution_count": 34,
   "id": "5f9e40dc-914b-4889-9f14-bc02f3ed957b",
   "metadata": {},
   "outputs": [
    {
     "data": {
      "text/plain": [
       "const      1.00\n",
       "carat      0.23\n",
       "color_E    1.00\n",
       "color_F    0.00\n",
       "color_G    0.00\n",
       "color_H    0.00\n",
       "color_I    0.00\n",
       "color_J    0.00\n",
       "Name: 0, dtype: float64"
      ]
     },
     "execution_count": 34,
     "metadata": {},
     "output_type": "execute_result"
    }
   ],
   "source": [
    "diamond1"
   ]
  },
  {
   "cell_type": "code",
   "execution_count": 35,
   "id": "202a5253-fbb1-471a-ad39-3cc0c44ab78f",
   "metadata": {},
   "outputs": [
    {
     "data": {
      "text/plain": [
       "None   -376.053034\n",
       "dtype: float64"
      ]
     },
     "execution_count": 35,
     "metadata": {},
     "output_type": "execute_result"
    }
   ],
   "source": [
    "results.predict(diamond1)"
   ]
  },
  {
   "cell_type": "code",
   "execution_count": 36,
   "id": "87f542b8-e455-4ab4-b978-b7b2e3192c44",
   "metadata": {},
   "outputs": [
    {
     "data": {
      "text/plain": [
       "np.int64(326)"
      ]
     },
     "execution_count": 36,
     "metadata": {},
     "output_type": "execute_result"
    }
   ],
   "source": [
    "Y_test.loc[0]"
   ]
  },
  {
   "cell_type": "code",
   "execution_count": 37,
   "id": "b32c0c4a-0b8d-4e54-bf17-c8957562bfd9",
   "metadata": {},
   "outputs": [
    {
     "data": {
      "text/plain": [
       "0        326\n",
       "1        326\n",
       "2        327\n",
       "3        334\n",
       "4        335\n",
       "       ...  \n",
       "995     8820\n",
       "996    10685\n",
       "997     9581\n",
       "998     1279\n",
       "999     1270\n",
       "Name: price, Length: 1000, dtype: int64"
      ]
     },
     "execution_count": 37,
     "metadata": {},
     "output_type": "execute_result"
    }
   ],
   "source": [
    "Y_test"
   ]
  },
  {
   "cell_type": "code",
   "execution_count": 38,
   "id": "f7ad4a1e-9166-4930-91ba-929331d2b462",
   "metadata": {},
   "outputs": [],
   "source": [
    "predicted = results.predict(X_test)"
   ]
  },
  {
   "cell_type": "code",
   "execution_count": 39,
   "id": "993e6073-d0bb-444f-a68c-0e623424f8e9",
   "metadata": {},
   "outputs": [
    {
     "data": {
      "text/plain": [
       "pandas.core.series.Series"
      ]
     },
     "execution_count": 39,
     "metadata": {},
     "output_type": "execute_result"
    }
   ],
   "source": [
    "type(predicted)"
   ]
  },
  {
   "cell_type": "code",
   "execution_count": 40,
   "id": "0c6cb414-c2ae-4a6e-8f0e-2090a27e4d6a",
   "metadata": {},
   "outputs": [
    {
     "data": {
      "text/plain": [
       "376    9068.570227\n",
       "822     269.152117\n",
       "179     366.550323\n",
       "812    1236.959844\n",
       "956     363.359158\n",
       "813    -449.559976\n",
       "23     1089.214953\n",
       "370    1075.658556\n",
       "595    5359.937951\n",
       "878    7060.553765\n",
       "dtype: float64"
      ]
     },
     "execution_count": 40,
     "metadata": {},
     "output_type": "execute_result"
    }
   ],
   "source": [
    "predicted.sample(10)"
   ]
  },
  {
   "cell_type": "code",
   "execution_count": 41,
   "id": "8283f13d-17b1-4ddf-bbda-88a3997c05e5",
   "metadata": {},
   "outputs": [
    {
     "data": {
      "text/plain": [
       "count     1000.000000\n",
       "mean      4176.332288\n",
       "std       3903.570993\n",
       "min      -1631.432129\n",
       "25%        995.007912\n",
       "50%       3431.274790\n",
       "75%       6189.103560\n",
       "max      26571.057289\n",
       "dtype: float64"
      ]
     },
     "execution_count": 41,
     "metadata": {},
     "output_type": "execute_result"
    }
   ],
   "source": [
    "predicted.describe()"
   ]
  },
  {
   "cell_type": "code",
   "execution_count": 49,
   "id": "b8703cde-d473-4535-a3c0-571e966a9e11",
   "metadata": {},
   "outputs": [
    {
     "data": {
      "text/plain": [
       "0    -376.053034\n",
       "1    -537.354322\n",
       "2    -376.053034\n",
       "3    -852.813195\n",
       "4   -1550.781485\n",
       "dtype: float64"
      ]
     },
     "execution_count": 49,
     "metadata": {},
     "output_type": "execute_result"
    }
   ],
   "source": [
    "# use residuals to understand fit\n",
    "y_pred = results.predict(X_test)\n",
    "y_pred.head()"
   ]
  },
  {
   "cell_type": "code",
   "execution_count": 53,
   "id": "4d150298-abae-4cc6-8edf-9d21c5b9003c",
   "metadata": {},
   "outputs": [
    {
     "data": {
      "text/plain": [
       "0    326\n",
       "1    326\n",
       "2    327\n",
       "3    334\n",
       "4    335\n",
       "Name: price, dtype: int64"
      ]
     },
     "execution_count": 53,
     "metadata": {},
     "output_type": "execute_result"
    }
   ],
   "source": [
    "y_actual = Y_test\n",
    "y_actual.head()"
   ]
  },
  {
   "cell_type": "code",
   "execution_count": 54,
   "id": "a4468bbb-cba4-4b71-9954-128e38e90b53",
   "metadata": {},
   "outputs": [
    {
     "data": {
      "image/png": "[encoded data removed]",
      "text/plain": [
       "<Figure size 640x480 with 1 Axes>"
      ]
     },
     "metadata": {},
     "output_type": "display_data"
    }
   ],
   "source": [
    "sns.regplot(x=y_pred, y=y_actual, line_kws={'color':'black'})\n",
    "plt.xlabel('Predicted Price')\n",
    "plt.ylabel('Actual Price')\n",
    "plt.grid(alpha=0.7, linestyle='--')\n",
    "plt.show()"
   ]
  },
  {
   "cell_type": "code",
   "execution_count": 55,
   "id": "b2f7e847-a1a2-46f2-b8c7-2238d49c180d",
   "metadata": {},
   "outputs": [
    {
     "name": "stdout",
     "output_type": "stream",
     "text": [
      "<class 'pandas.core.series.Series'>\n",
      "<class 'pandas.core.series.Series'>\n"
     ]
    }
   ],
   "source": [
    "# multiple r\n",
    "print(type(y_pred))\n",
    "print(type(y_actual))"
   ]
  },
  {
   "cell_type": "code",
   "execution_count": 56,
   "id": "d1633c22-2789-49cd-9066-92ced5680954",
   "metadata": {},
   "outputs": [
    {
     "data": {
      "text/plain": [
       "np.float64(0.927762918142623)"
      ]
     },
     "execution_count": 56,
     "metadata": {},
     "output_type": "execute_result"
    }
   ],
   "source": [
    "y_pred.corr(y_actual)"
   ]
  },
  {
   "cell_type": "code",
   "execution_count": 57,
   "id": "3c39688a-7143-4468-bd5a-961ba8731443",
   "metadata": {},
   "outputs": [
    {
     "data": {
      "text/plain": [
       "0     702.053034\n",
       "1     863.354322\n",
       "2     703.053034\n",
       "3    1186.813195\n",
       "4    1885.781485\n",
       "dtype: float64"
      ]
     },
     "execution_count": 57,
     "metadata": {},
     "output_type": "execute_result"
    }
   ],
   "source": [
    "residuals = y_actual - y_pred\n",
    "residuals.head()"
   ]
  },
  {
   "cell_type": "code",
   "execution_count": 58,
   "id": "271d824e-9182-4e9b-b0eb-2b91cdfeee55",
   "metadata": {},
   "outputs": [
    {
     "name": "stdout",
     "output_type": "stream",
     "text": [
      "992.612838294212\n"
     ]
    }
   ],
   "source": [
    "MAE = residuals.abs().mean()\n",
    "print(MAE)"
   ]
  },
  {
   "cell_type": "code",
   "execution_count": null,
   "id": "24962792-51fe-46ae-b83b-c93a7cc8149d",
   "metadata": {},
   "outputs": [],
   "source": []
  }
 ],
 "metadata": {
  "kernelspec": {
   "display_name": "Python 3 (ipykernel)",
   "language": "python",
   "name": "python3"
  },
  "language_info": {
   "codemirror_mode": {
    "name": "ipython",
    "version": 3
   },
   "file_extension": ".py",
   "mimetype": "text/x-python",
   "name": "python",
   "nbconvert_exporter": "python",
   "pygments_lexer": "ipython3",
   "version": "3.11.6"
  }
 },
 "nbformat": 4,
 "nbformat_minor": 5
}
