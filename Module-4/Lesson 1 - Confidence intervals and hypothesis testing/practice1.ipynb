{
 "cells": [
  {
   "cell_type": "code",
   "execution_count": 1,
   "id": "330c0c92-9e2e-496a-90a6-ccda272d05e5",
   "metadata": {},
   "outputs": [],
   "source": [
    "import pandas as pd\n",
    "import numpy as np\n",
    "import matplotlib.pyplot as plt\n",
    "import seaborn as sns\n",
    "import scipy.stats as stats"
   ]
  },
  {
   "cell_type": "code",
   "execution_count": 2,
   "id": "3dc9e332-3f74-4612-bf21-8cd01a56419f",
   "metadata": {},
   "outputs": [
    {
     "data": {
      "text/html": [
       "<div>\n",
       "<style scoped>\n",
       "    .dataframe tbody tr th:only-of-type {\n",
       "        vertical-align: middle;\n",
       "    }\n",
       "\n",
       "    .dataframe tbody tr th {\n",
       "        vertical-align: top;\n",
       "    }\n",
       "\n",
       "    .dataframe thead th {\n",
       "        text-align: right;\n",
       "    }\n",
       "</style>\n",
       "<table border=\"1\" class=\"dataframe\">\n",
       "  <thead>\n",
       "    <tr style=\"text-align: right;\">\n",
       "      <th></th>\n",
       "      <th>carat</th>\n",
       "      <th>cut</th>\n",
       "      <th>color</th>\n",
       "      <th>clarity</th>\n",
       "      <th>depth</th>\n",
       "      <th>table</th>\n",
       "      <th>price</th>\n",
       "      <th>x</th>\n",
       "      <th>y</th>\n",
       "      <th>z</th>\n",
       "    </tr>\n",
       "  </thead>\n",
       "  <tbody>\n",
       "    <tr>\n",
       "      <th>0</th>\n",
       "      <td>0.23</td>\n",
       "      <td>Ideal</td>\n",
       "      <td>E</td>\n",
       "      <td>SI2</td>\n",
       "      <td>61.5</td>\n",
       "      <td>55.0</td>\n",
       "      <td>326</td>\n",
       "      <td>3.95</td>\n",
       "      <td>3.98</td>\n",
       "      <td>2.43</td>\n",
       "    </tr>\n",
       "    <tr>\n",
       "      <th>1</th>\n",
       "      <td>0.21</td>\n",
       "      <td>Premium</td>\n",
       "      <td>E</td>\n",
       "      <td>SI1</td>\n",
       "      <td>59.8</td>\n",
       "      <td>61.0</td>\n",
       "      <td>326</td>\n",
       "      <td>3.89</td>\n",
       "      <td>3.84</td>\n",
       "      <td>2.31</td>\n",
       "    </tr>\n",
       "    <tr>\n",
       "      <th>2</th>\n",
       "      <td>0.23</td>\n",
       "      <td>Good</td>\n",
       "      <td>E</td>\n",
       "      <td>VS1</td>\n",
       "      <td>56.9</td>\n",
       "      <td>65.0</td>\n",
       "      <td>327</td>\n",
       "      <td>4.05</td>\n",
       "      <td>4.07</td>\n",
       "      <td>2.31</td>\n",
       "    </tr>\n",
       "    <tr>\n",
       "      <th>3</th>\n",
       "      <td>0.29</td>\n",
       "      <td>Premium</td>\n",
       "      <td>I</td>\n",
       "      <td>VS2</td>\n",
       "      <td>62.4</td>\n",
       "      <td>58.0</td>\n",
       "      <td>334</td>\n",
       "      <td>4.20</td>\n",
       "      <td>4.23</td>\n",
       "      <td>2.63</td>\n",
       "    </tr>\n",
       "    <tr>\n",
       "      <th>4</th>\n",
       "      <td>0.31</td>\n",
       "      <td>Good</td>\n",
       "      <td>J</td>\n",
       "      <td>SI2</td>\n",
       "      <td>63.3</td>\n",
       "      <td>58.0</td>\n",
       "      <td>335</td>\n",
       "      <td>4.34</td>\n",
       "      <td>4.35</td>\n",
       "      <td>2.75</td>\n",
       "    </tr>\n",
       "  </tbody>\n",
       "</table>\n",
       "</div>"
      ],
      "text/plain": [
       "   carat      cut color clarity  depth  table  price     x     y     z\n",
       "0   0.23    Ideal     E     SI2   61.5   55.0    326  3.95  3.98  2.43\n",
       "1   0.21  Premium     E     SI1   59.8   61.0    326  3.89  3.84  2.31\n",
       "2   0.23     Good     E     VS1   56.9   65.0    327  4.05  4.07  2.31\n",
       "3   0.29  Premium     I     VS2   62.4   58.0    334  4.20  4.23  2.63\n",
       "4   0.31     Good     J     SI2   63.3   58.0    335  4.34  4.35  2.75"
      ]
     },
     "execution_count": 2,
     "metadata": {},
     "output_type": "execute_result"
    }
   ],
   "source": [
    "df = pd.read_csv('diamonds.csv')\n",
    "df.head()"
   ]
  },
  {
   "cell_type": "code",
   "execution_count": 3,
   "id": "11cd3de4-a947-49ee-8c6e-cfe9ef565d24",
   "metadata": {},
   "outputs": [
    {
     "data": {
      "text/html": [
       "<div>\n",
       "<style scoped>\n",
       "    .dataframe tbody tr th:only-of-type {\n",
       "        vertical-align: middle;\n",
       "    }\n",
       "\n",
       "    .dataframe tbody tr th {\n",
       "        vertical-align: top;\n",
       "    }\n",
       "\n",
       "    .dataframe thead th {\n",
       "        text-align: right;\n",
       "    }\n",
       "</style>\n",
       "<table border=\"1\" class=\"dataframe\">\n",
       "  <thead>\n",
       "    <tr style=\"text-align: right;\">\n",
       "      <th></th>\n",
       "      <th>carat</th>\n",
       "      <th>depth</th>\n",
       "      <th>table</th>\n",
       "      <th>price</th>\n",
       "      <th>x</th>\n",
       "      <th>y</th>\n",
       "      <th>z</th>\n",
       "    </tr>\n",
       "  </thead>\n",
       "  <tbody>\n",
       "    <tr>\n",
       "      <th>count</th>\n",
       "      <td>53941.000000</td>\n",
       "      <td>53941.000000</td>\n",
       "      <td>53941.000000</td>\n",
       "      <td>53941.000000</td>\n",
       "      <td>53941.000000</td>\n",
       "      <td>53941.000000</td>\n",
       "      <td>53941.000000</td>\n",
       "    </tr>\n",
       "    <tr>\n",
       "      <th>mean</th>\n",
       "      <td>0.797953</td>\n",
       "      <td>61.749447</td>\n",
       "      <td>57.457231</td>\n",
       "      <td>3932.885875</td>\n",
       "      <td>5.731183</td>\n",
       "      <td>5.734554</td>\n",
       "      <td>3.538753</td>\n",
       "    </tr>\n",
       "    <tr>\n",
       "      <th>std</th>\n",
       "      <td>0.474016</td>\n",
       "      <td>1.432641</td>\n",
       "      <td>2.234497</td>\n",
       "      <td>3989.452937</td>\n",
       "      <td>1.121767</td>\n",
       "      <td>1.142143</td>\n",
       "      <td>0.705707</td>\n",
       "    </tr>\n",
       "    <tr>\n",
       "      <th>min</th>\n",
       "      <td>0.200000</td>\n",
       "      <td>43.000000</td>\n",
       "      <td>43.000000</td>\n",
       "      <td>326.000000</td>\n",
       "      <td>0.000000</td>\n",
       "      <td>0.000000</td>\n",
       "      <td>0.000000</td>\n",
       "    </tr>\n",
       "    <tr>\n",
       "      <th>25%</th>\n",
       "      <td>0.400000</td>\n",
       "      <td>61.000000</td>\n",
       "      <td>56.000000</td>\n",
       "      <td>950.000000</td>\n",
       "      <td>4.710000</td>\n",
       "      <td>4.720000</td>\n",
       "      <td>2.910000</td>\n",
       "    </tr>\n",
       "    <tr>\n",
       "      <th>50%</th>\n",
       "      <td>0.700000</td>\n",
       "      <td>61.800000</td>\n",
       "      <td>57.000000</td>\n",
       "      <td>2401.000000</td>\n",
       "      <td>5.700000</td>\n",
       "      <td>5.710000</td>\n",
       "      <td>3.530000</td>\n",
       "    </tr>\n",
       "    <tr>\n",
       "      <th>75%</th>\n",
       "      <td>1.040000</td>\n",
       "      <td>62.500000</td>\n",
       "      <td>59.000000</td>\n",
       "      <td>5325.000000</td>\n",
       "      <td>6.540000</td>\n",
       "      <td>6.540000</td>\n",
       "      <td>4.040000</td>\n",
       "    </tr>\n",
       "    <tr>\n",
       "      <th>max</th>\n",
       "      <td>5.010000</td>\n",
       "      <td>79.000000</td>\n",
       "      <td>95.000000</td>\n",
       "      <td>18823.000000</td>\n",
       "      <td>10.740000</td>\n",
       "      <td>58.900000</td>\n",
       "      <td>31.800000</td>\n",
       "    </tr>\n",
       "  </tbody>\n",
       "</table>\n",
       "</div>"
      ],
      "text/plain": [
       "              carat         depth         table         price             x  \\\n",
       "count  53941.000000  53941.000000  53941.000000  53941.000000  53941.000000   \n",
       "mean       0.797953     61.749447     57.457231   3932.885875      5.731183   \n",
       "std        0.474016      1.432641      2.234497   3989.452937      1.121767   \n",
       "min        0.200000     43.000000     43.000000    326.000000      0.000000   \n",
       "25%        0.400000     61.000000     56.000000    950.000000      4.710000   \n",
       "50%        0.700000     61.800000     57.000000   2401.000000      5.700000   \n",
       "75%        1.040000     62.500000     59.000000   5325.000000      6.540000   \n",
       "max        5.010000     79.000000     95.000000  18823.000000     10.740000   \n",
       "\n",
       "                  y             z  \n",
       "count  53941.000000  53941.000000  \n",
       "mean       5.734554      3.538753  \n",
       "std        1.142143      0.705707  \n",
       "min        0.000000      0.000000  \n",
       "25%        4.720000      2.910000  \n",
       "50%        5.710000      3.530000  \n",
       "75%        6.540000      4.040000  \n",
       "max       58.900000     31.800000  "
      ]
     },
     "execution_count": 3,
     "metadata": {},
     "output_type": "execute_result"
    }
   ],
   "source": [
    "df.describe()"
   ]
  },
  {
   "cell_type": "code",
   "execution_count": 4,
   "id": "899e7293-c9c9-443f-86d0-2ff878fc9ea5",
   "metadata": {},
   "outputs": [
    {
     "data": {
      "image/png": "[encoded data removed]",
      "text/plain": [
       "<Figure size 640x480 with 1 Axes>"
      ]
     },
     "metadata": {},
     "output_type": "display_data"
    }
   ],
   "source": [
    "sns.histplot(df, x='price')\n",
    "plt.show()"
   ]
  },
  {
   "cell_type": "code",
   "execution_count": 5,
   "id": "ecdfc433-b5b2-4918-8287-2182ddcf6dd1",
   "metadata": {},
   "outputs": [
    {
     "data": {
      "text/plain": [
       "(np.float64(3899.219067451682), np.float64(3966.5526831647326))"
      ]
     },
     "execution_count": 5,
     "metadata": {},
     "output_type": "execute_result"
    }
   ],
   "source": [
    "# confidence interval for mean diamond price\n",
    "\n",
    "# variables for n, x-bar, s, confidence\n",
    "n = df['price'].count()\n",
    "xbar = df['price'].mean()\n",
    "s = df['price'].std()\n",
    "conf = 0.95\n",
    "\n",
    "# Standard error of the mean\n",
    "SEM = s / np.sqrt(n)\n",
    "SEM\n",
    "\n",
    "# calculate confidence interval\n",
    "interval = stats.norm.interval(confidence=conf, loc=xbar, scale=SEM)\n",
    "interval"
   ]
  },
  {
   "cell_type": "code",
   "execution_count": 6,
   "id": "402e619b-e9bd-44c4-9a8b-7b46e8bfc0e9",
   "metadata": {},
   "outputs": [
    {
     "data": {
      "text/plain": [
       "np.float64(3899.219067451682)"
      ]
     },
     "execution_count": 6,
     "metadata": {},
     "output_type": "execute_result"
    }
   ],
   "source": [
    "interval[0]"
   ]
  },
  {
   "cell_type": "code",
   "execution_count": 7,
   "id": "4356fc62-3d56-45c4-a5f8-889ac9f0e202",
   "metadata": {},
   "outputs": [
    {
     "name": "stdout",
     "output_type": "stream",
     "text": [
      "With 95% confidence, the true mean diamond price is between 3899.219067451682 and 3966.5526831647326\n"
     ]
    }
   ],
   "source": [
    "print('With 95% confidence, the true mean diamond price is between', interval[0], 'and', interval[1])"
   ]
  },
  {
   "cell_type": "code",
   "execution_count": 9,
   "id": "8e78d322-1c8a-4261-8d7e-10b52756dc9f",
   "metadata": {},
   "outputs": [
    {
     "name": "stdout",
     "output_type": "stream",
     "text": [
      "['Ideal' 'Premium' 'Good' 'Very Good' 'Fair']\n"
     ]
    }
   ],
   "source": [
    "# goal: test whether 'Premium' cut diamonds have an average price > $4500\n",
    "print(pd.unique(df['cut']))"
   ]
  },
  {
   "cell_type": "code",
   "execution_count": 10,
   "id": "d0c475d1-02cb-4298-9ed8-6cb2013e8e40",
   "metadata": {},
   "outputs": [
    {
     "data": {
      "text/plain": [
       "cut\n",
       "Fair         4358.757764\n",
       "Good         3929.812309\n",
       "Ideal        3457.541970\n",
       "Premium      4584.257704\n",
       "Very Good    3981.759891\n",
       "Name: price, dtype: float64"
      ]
     },
     "execution_count": 10,
     "metadata": {},
     "output_type": "execute_result"
    }
   ],
   "source": [
    "# What is the average price of Premium diamonds?\n",
    "df.groupby('cut')['price'].mean()"
   ]
  },
  {
   "cell_type": "code",
   "execution_count": 11,
   "id": "8b5dbb56-e831-42fb-9838-8a8111f37e88",
   "metadata": {},
   "outputs": [
    {
     "data": {
      "text/plain": [
       "TtestResult(statistic=np.float64(2.275084997124123), pvalue=np.float64(0.02291611091679631), df=np.int64(13790))"
      ]
     },
     "execution_count": 11,
     "metadata": {},
     "output_type": "execute_result"
    }
   ],
   "source": [
    "alpha = 0.05\n",
    "test_results = stats.ttest_1samp(df[df['cut'] == 'Premium']['price'], popmean=4500)\n",
    "test_results"
   ]
  },
  {
   "cell_type": "code",
   "execution_count": 12,
   "id": "c5f3cded-c28b-4ef7-9733-032bbe4a088a",
   "metadata": {},
   "outputs": [
    {
     "name": "stdout",
     "output_type": "stream",
     "text": [
      "Rejected the null with p-value 0.02291611091679631\n"
     ]
    }
   ],
   "source": [
    "if test_results[1] > alpha:\n",
    "    print('Failed to reject the null with p-value', test_results[1])\n",
    "else:\n",
    "    print('Rejected the null with p-value', test_results[1])"
   ]
  },
  {
   "cell_type": "code",
   "execution_count": 14,
   "id": "f95381d8-0bfe-4d0c-bd71-a4598b55ef17",
   "metadata": {},
   "outputs": [
    {
     "data": {
      "image/png": "[encoded data removed]",
      "text/plain": [
       "<Figure size 640x480 with 1 Axes>"
      ]
     },
     "metadata": {},
     "output_type": "display_data"
    }
   ],
   "source": [
    "df.groupby('cut')['price'].mean().sort_values().plot(kind='bar')\n",
    "plt.show()"
   ]
  },
  {
   "cell_type": "code",
   "execution_count": 17,
   "id": "c57a2cf8-f116-49c5-831a-58316d9e109b",
   "metadata": {},
   "outputs": [
    {
     "name": "stderr",
     "output_type": "stream",
     "text": [
      "/tmp/ipykernel_88/4286997943.py:2: FutureWarning: \n",
      "\n",
      "Passing `palette` without assigning `hue` is deprecated and will be removed in v0.14.0. Assign the `y` variable to `hue` and set `legend=False` for the same effect.\n",
      "\n",
      "  sns.boxplot(df, x='price', y='cut', order=cut_order, palette='Blues_r')\n"
     ]
    },
    {
     "data": {
      "image/png": "[encoded data removed]",
      "text/plain": [
       "<Figure size 640x480 with 1 Axes>"
      ]
     },
     "metadata": {},
     "output_type": "display_data"
    }
   ],
   "source": [
    "cut_order = ['Ideal', 'Premium', 'Very Good', 'Good', 'Fair']\n",
    "sns.boxplot(df, x='price', y='cut', order=cut_order, palette='Blues_r')\n",
    "plt.show()"
   ]
  },
  {
   "cell_type": "code",
   "execution_count": 18,
   "id": "6436af41-4d1f-48a5-a23a-a9fd5b713177",
   "metadata": {},
   "outputs": [
    {
     "data": {
      "text/plain": [
       "TtestResult(statistic=np.float64(0.7941427626594914), pvalue=np.float64(0.4271234189400054), df=np.float64(16987.0))"
      ]
     },
     "execution_count": 18,
     "metadata": {},
     "output_type": "execute_result"
    }
   ],
   "source": [
    "very_goods = df[df['cut'] == 'Very Good']['price']\n",
    "goods = df[df['cut'] == 'Good']['price']\n",
    "test_results = stats.ttest_ind(very_goods, goods)\n",
    "test_results"
   ]
  },
  {
   "cell_type": "code",
   "execution_count": 19,
   "id": "14e18f3e-fec6-4f1d-9f7e-3a3319e02d49",
   "metadata": {},
   "outputs": [
    {
     "name": "stdout",
     "output_type": "stream",
     "text": [
      "Failed to reject the null with p-value 0.4271234189400054\n"
     ]
    }
   ],
   "source": [
    "if test_results[1] > alpha:\n",
    "    print('Failed to reject the null with p-value', test_results[1])\n",
    "else:\n",
    "    print('Rejected the null with p-value', test_results[1])"
   ]
  },
  {
   "cell_type": "code",
   "execution_count": 20,
   "id": "aa5fdbfe-c591-492f-8cb2-bef0df81981a",
   "metadata": {},
   "outputs": [
    {
     "name": "stdout",
     "output_type": "stream",
     "text": [
      "Sample Mean:  0.050453941370520936\n",
      "Sample standard Deviation:  0.028872750435734975\n"
     ]
    },
    {
     "data": {
      "image/png": "[encoded data removed]",
      "text/plain": [
       "<Figure size 640x480 with 1 Axes>"
      ]
     },
     "metadata": {},
     "output_type": "display_data"
    }
   ],
   "source": [
    "# sampling random discounts ranging from 0 to 10%\n",
    "\n",
    "n = 1000\n",
    "sample = np.random.uniform(low=0, high=0.1, size=n)\n",
    "xbar = sample.mean()\n",
    "s = sample.std()\n",
    "print('Sample Mean: ', xbar)\n",
    "print('Sample standard Deviation: ', s)\n",
    "sns.histplot(sample)\n",
    "plt.show()"
   ]
  },
  {
   "cell_type": "code",
   "execution_count": 22,
   "id": "03a26383-f34f-47c0-8517-0c44b1552f45",
   "metadata": {},
   "outputs": [
    {
     "name": "stdout",
     "output_type": "stream",
     "text": [
      "With 95% confidence, the true value is between -0.006135609618132767 and 0.10704349235917464\n"
     ]
    }
   ],
   "source": [
    "interval = stats.norm.interval(confidence=0.95, loc=xbar, scale=s)\n",
    "print('With 95% confidence, the true value is between', interval[0], 'and', interval[1])"
   ]
  },
  {
   "cell_type": "code",
   "execution_count": 23,
   "id": "0d42303a-c29e-41df-b028-14ce03ac3442",
   "metadata": {},
   "outputs": [
    {
     "name": "stdout",
     "output_type": "stream",
     "text": [
      "Number of intervals containing 0.05: 91\n",
      "Number of intervals not containing 0.05: 9\n"
     ]
    }
   ],
   "source": [
    "n = 1000\n",
    "contains_0_05 = 0\n",
    "does_not_contain_0_05 = 0\n",
    "\n",
    "for _ in range(100):\n",
    "    sample = np.random.uniform(low=0, high=0.1, size=n)\n",
    "    xbar = sample.mean()\n",
    "    s = sample.std()\n",
    "    SEM = s / np.sqrt(n)\n",
    "    interval = stats.norm.interval(confidence=0.95, loc=xbar, scale=SEM)\n",
    "\n",
    "    if interval[0] <= 0.05 <= interval[1]:\n",
    "        contains_0_05 += 1\n",
    "    else:\n",
    "        does_not_contain_0_05 += 1\n",
    "\n",
    "print('Number of intervals containing 0.05:', contains_0_05)\n",
    "print('Number of intervals not containing 0.05:', does_not_contain_0_05)"
   ]
  },
  {
   "cell_type": "code",
   "execution_count": 24,
   "id": "fcd5c14b-4d52-40e7-8cdc-3538292ef256",
   "metadata": {},
   "outputs": [
    {
     "name": "stdout",
     "output_type": "stream",
     "text": [
      "(np.float64(3897.682972595774), np.float64(3992.3039798521377))\n",
      "(np.float64(3870.3033369748773), np.float64(3961.273362601709))\n",
      "(np.float64(3869.2358766080615), np.float64(3962.357014246004))\n",
      "(np.float64(3867.153362254551), np.float64(3963.569068645408))\n",
      "(np.float64(3896.008985278975), np.float64(3990.111238475706))\n",
      "(np.float64(3891.980317531524), np.float64(3983.5578407845646))\n",
      "(np.float64(3838.1465118301967), np.float64(3933.1875737771925))\n",
      "(np.float64(3842.631329115099), np.float64(3935.6288291678065))\n",
      "(np.float64(3921.4672553559753), np.float64(4013.6976647515135))\n",
      "(np.float64(3901.633809995051), np.float64(3993.109365430473))\n",
      "(np.float64(3894.9561999448065), np.float64(3987.760961851663))\n",
      "(np.float64(3898.631356589367), np.float64(3990.8774995172053))\n",
      "(np.float64(3890.0701756147005), np.float64(3983.0256106085358))\n",
      "(np.float64(3897.6953201726737), np.float64(3989.9401518736304))\n",
      "(np.float64(3912.0449232391197), np.float64(4004.2322825447677))\n",
      "(np.float64(3889.093296770938), np.float64(3982.266805080754))\n",
      "(np.float64(3919.599042037855), np.float64(4013.2198432542964))\n",
      "(np.float64(3881.2490340186037), np.float64(3971.932374192816))\n",
      "(np.float64(3874.160350638531), np.float64(3968.3342382526816))\n",
      "(np.float64(3909.29301934393), np.float64(4001.273158176166))\n",
      "(np.float64(3914.696443026708), np.float64(4009.2057039609217))\n",
      "(np.float64(3896.1355378424314), np.float64(3989.192378859688))\n",
      "(np.float64(3870.2317272964765), np.float64(3958.5733366831046))\n",
      "(np.float64(3873.546313966843), np.float64(3966.790849538042))\n",
      "(np.float64(3873.021151045014), np.float64(3969.259263168165))\n",
      "(np.float64(3880.3575819717817), np.float64(3971.6060765322354))\n",
      "(np.float64(3890.4518303760456), np.float64(3986.783704843521))\n",
      "(np.float64(3895.5975757441493), np.float64(3987.6848902057054))\n",
      "(np.float64(3876.125116664674), np.float64(3970.170553481678))\n",
      "(np.float64(3835.903687720405), np.float64(3930.447354885538))\n",
      "(np.float64(3866.5113813120815), np.float64(3957.5382980990853))\n",
      "(np.float64(3854.4990033383424), np.float64(3947.9803321695867))\n",
      "(np.float64(3899.5581195947057), np.float64(3992.689218547009))\n",
      "(np.float64(3889.681660748389), np.float64(3982.577025463157))\n",
      "(np.float64(3900.126397444503), np.float64(3991.4610976328913))\n",
      "(np.float64(3874.225743675745), np.float64(3970.6823636919576))\n",
      "(np.float64(3865.714650507237), np.float64(3957.946571115627))\n",
      "(np.float64(3892.6444189606045), np.float64(3984.673466138209))\n",
      "(np.float64(3879.8089682564773), np.float64(3974.5081279527626))\n",
      "(np.float64(3902.271852390497), np.float64(3994.3489164293924))\n",
      "(np.float64(3900.9143897448525), np.float64(3993.737610488454))\n",
      "(np.float64(3853.3763809260263), np.float64(3945.688848147929))\n",
      "(np.float64(3839.2505476739), np.float64(3933.4733163358956))\n",
      "(np.float64(3923.938772187067), np.float64(4018.114452208568))\n",
      "(np.float64(3906.941584580668), np.float64(3999.895834251005))\n",
      "(np.float64(3882.978231531829), np.float64(3974.9735316378155))\n",
      "(np.float64(3935.7005627348462), np.float64(4024.893088320212))\n",
      "(np.float64(3860.8006828728608), np.float64(3952.9971763439185))\n",
      "(np.float64(3884.3984211119173), np.float64(3976.817865560671))\n",
      "(np.float64(3883.580988449363), np.float64(3976.7850945478995))\n",
      "(np.float64(3892.6541401169784), np.float64(3982.500109267073))\n",
      "(np.float64(3894.1286180023053), np.float64(3988.748617791264))\n",
      "(np.float64(3877.686615373778), np.float64(3970.3825358619947))\n",
      "(np.float64(3879.602696159667), np.float64(3970.4511945746763))\n",
      "(np.float64(3874.0736368045477), np.float64(3964.7324561762584))\n",
      "(np.float64(3936.908066026582), np.float64(4031.0822614181975))\n",
      "(np.float64(3895.12185398431), np.float64(3985.47462207925))\n",
      "(np.float64(3881.324051891133), np.float64(3971.0172531321027))\n",
      "(np.float64(3909.550607641216), np.float64(3999.8293606558614))\n",
      "(np.float64(3870.4227348671825), np.float64(3961.95691118095))\n",
      "(np.float64(3834.048754003776), np.float64(3926.4049252832788))\n",
      "(np.float64(3931.638018083127), np.float64(4023.8023413623882))\n",
      "(np.float64(3868.8738727719974), np.float64(3963.4022962518275))\n",
      "(np.float64(3896.1578355311867), np.float64(3987.091898845527))\n",
      "(np.float64(3867.1669929994086), np.float64(3958.8757274689224))\n",
      "(np.float64(3913.366243751255), np.float64(4004.0253301640823))\n",
      "(np.float64(3889.979645257642), np.float64(3984.2539415972387))\n",
      "(np.float64(3896.197158487156), np.float64(3989.9199610713445))\n",
      "(np.float64(3919.7833809869812), np.float64(4010.656119866911))\n",
      "(np.float64(3894.3030893246055), np.float64(3989.1711803234807))\n",
      "(np.float64(3852.4635777714225), np.float64(3947.6908158013853))\n",
      "(np.float64(3883.3705912852756), np.float64(3976.716857435934))\n",
      "(np.float64(3824.26019997311), np.float64(3914.8948842676114))\n",
      "(np.float64(3909.3751563313963), np.float64(4000.6646183851108))\n",
      "(np.float64(3873.6916518550647), np.float64(3962.7480826379783))\n",
      "(np.float64(3874.124339643625), np.float64(3965.626228880089))\n",
      "(np.float64(3919.530938697179), np.float64(4011.673593370297))\n",
      "(np.float64(3883.6829986780212), np.float64(3975.3282655064168))\n",
      "(np.float64(3855.3999430402005), np.float64(3950.9494649321764))\n",
      "(np.float64(3882.1012255947066), np.float64(3974.986848272199))\n",
      "(np.float64(3880.2515378260264), np.float64(3968.7325481882312))\n",
      "(np.float64(3907.5829227169224), np.float64(4001.5182822738307))\n",
      "(np.float64(3880.254540690741), np.float64(3974.1727694565798))\n",
      "(np.float64(3872.369597238533), np.float64(3964.1220504601597))\n",
      "(np.float64(3913.0273157848), np.float64(4007.6311613988732))\n",
      "(np.float64(3885.6006756521174), np.float64(3977.0058797421043))\n",
      "(np.float64(3907.33876910436), np.float64(3999.8251289141863))\n",
      "(np.float64(3884.6327720728914), np.float64(3973.868293954666))\n",
      "(np.float64(3902.319191049651), np.float64(3994.310532883939))\n",
      "(np.float64(3879.6931311151347), np.float64(3974.6841896867654))\n",
      "(np.float64(3895.476397298982), np.float64(3986.4057525227627))\n",
      "(np.float64(3874.172288268758), np.float64(3967.0911610243647))\n",
      "(np.float64(3924.0226132581042), np.float64(4016.6268992855253))\n",
      "(np.float64(3889.991837886604), np.float64(3983.4463647846924))\n",
      "(np.float64(3931.6700215891415), np.float64(4023.318146724364))\n",
      "(np.float64(3885.515221996831), np.float64(3975.608796732928))\n",
      "(np.float64(3908.484597679548), np.float64(4000.1626001063264))\n",
      "(np.float64(3883.0844214847198), np.float64(3979.1532897333077))\n",
      "(np.float64(3907.096745244718), np.float64(3999.7571514628557))\n",
      "(np.float64(3905.367566999912), np.float64(3996.638143194923))\n"
     ]
    }
   ],
   "source": [
    "# create simulation of 1000 diamond prices from normal distribution\n",
    "# mean: 3932.799722\n",
    "# st.dev: 750\n",
    "\n",
    "n = 1000\n",
    "for _ in range(100):\n",
    "    sample = np.random.normal(loc=3932, scale=750, size=n)\n",
    "    xbar = sample.mean()\n",
    "    s = sample.std()\n",
    "    SEM = s / np.sqrt(n)\n",
    "    interval = stats.norm.interval(confidence=0.95, loc=xbar, scale=SEM)\n",
    "    print(interval)"
   ]
  },
  {
   "cell_type": "code",
   "execution_count": 25,
   "id": "05947ca0-331d-41c7-a0fb-56413e0dbeb7",
   "metadata": {},
   "outputs": [
    {
     "name": "stdout",
     "output_type": "stream",
     "text": [
      "Number of intervals containing 3932: 91\n",
      "Number of intervals not containing 3932: 9\n"
     ]
    }
   ],
   "source": [
    "n = 1000\n",
    "contains_mu = 0\n",
    "does_not_contain_mu = 0\n",
    "\n",
    "for _ in range(100):\n",
    "    sample = np.random.normal(loc=3932, scale=750, size=n)\n",
    "    xbar = sample.mean()\n",
    "    s = sample.std()\n",
    "    SEM = s / np.sqrt(n)\n",
    "    interval = stats.norm.interval(confidence=0.95, loc=xbar, scale=SEM)\n",
    "\n",
    "    if interval[0] <= 3932 <= interval[1]:\n",
    "        contains_mu += 1\n",
    "    else:\n",
    "        does_not_contain_mu += 1\n",
    "\n",
    "print('Number of intervals containing 3932:', contains_mu)\n",
    "print('Number of intervals not containing 3932:', does_not_contain_mu)"
   ]
  },
  {
   "cell_type": "code",
   "execution_count": null,
   "id": "8561fbb1-5e2c-4315-a568-9838aca5a202",
   "metadata": {},
   "outputs": [],
   "source": []
  }
 ],
 "metadata": {
  "kernelspec": {
   "display_name": "Python 3 (ipykernel)",
   "language": "python",
   "name": "python3"
  },
  "language_info": {
   "codemirror_mode": {
    "name": "ipython",
    "version": 3
   },
   "file_extension": ".py",
   "mimetype": "text/x-python",
   "name": "python",
   "nbconvert_exporter": "python",
   "pygments_lexer": "ipython3",
   "version": "3.11.6"
  }
 },
 "nbformat": 4,
 "nbformat_minor": 5
}
