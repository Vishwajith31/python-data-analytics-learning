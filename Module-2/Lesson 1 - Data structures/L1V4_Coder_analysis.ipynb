{
 "cells": [
  {
   "cell_type": "code",
   "execution_count": null,
   "id": "d07b7979-7aa4-4d0b-a837-0fc41ce6e9d1",
   "metadata": {},
   "outputs": [],
   "source": [
    "import pandas as pd"
   ]
  },
  {
   "cell_type": "code",
   "execution_count": null,
   "id": "bbd9c873-a332-478b-b631-2ac7a35eec5c",
   "metadata": {},
   "outputs": [],
   "source": [
    "df = pd.read_csv(\"survey_data.csv\")"
   ]
  },
  {
   "cell_type": "code",
   "execution_count": null,
   "id": "60b02eac-0166-437a-9a26-a020b8b38b15",
   "metadata": {},
   "outputs": [],
   "source": [
    "type(df)"
   ]
  },
  {
   "cell_type": "code",
   "execution_count": null,
   "id": "4948b9be-ea8b-445d-ab16-4dc8cd8ce6ba",
   "metadata": {},
   "outputs": [],
   "source": [
    "df"
   ]
  },
  {
   "cell_type": "code",
   "execution_count": null,
   "id": "7e1bfc94-e2d7-4def-9c5e-b883218af34c",
   "metadata": {},
   "outputs": [],
   "source": [
    "print(df)"
   ]
  },
  {
   "cell_type": "code",
   "execution_count": null,
   "id": "5d2a3c14-e469-43e4-9e1a-231bca853f84",
   "metadata": {},
   "outputs": [],
   "source": [
    "df.head()"
   ]
  },
  {
   "cell_type": "code",
   "execution_count": null,
   "id": "7750fbc0-ad66-45e7-ac8c-f1fb62612ac2",
   "metadata": {},
   "outputs": [],
   "source": [
    "df.head(3)"
   ]
  },
  {
   "cell_type": "code",
   "execution_count": null,
   "id": "c268801b-0f8d-499c-afe7-de30064af27b",
   "metadata": {},
   "outputs": [],
   "source": [
    "df.sample()"
   ]
  },
  {
   "cell_type": "code",
   "execution_count": null,
   "id": "0b65b08c-a0a8-40cd-a139-81e619fd7589",
   "metadata": {},
   "outputs": [],
   "source": [
    "df.sample(5)"
   ]
  },
  {
   "cell_type": "code",
   "execution_count": null,
   "id": "a81c5cbf-3be9-487e-b39d-301ad8dc6e43",
   "metadata": {},
   "outputs": [],
   "source": [
    "df.columns"
   ]
  },
  {
   "cell_type": "code",
   "execution_count": null,
   "id": "17621dd8-8251-407f-8b6b-834604d483e5",
   "metadata": {},
   "outputs": [],
   "source": [
    "df.dtypes # what are the data types of each column?"
   ]
  },
  {
   "cell_type": "code",
   "execution_count": null,
   "id": "f0693f9c-9501-4d9a-8e62-32b1720c8ad9",
   "metadata": {},
   "outputs": [],
   "source": [
    "df.info()"
   ]
  },
  {
   "cell_type": "markdown",
   "id": "defb2e92-1ac6-40d0-a600-ff0d7d5fb387",
   "metadata": {},
   "source": [
    "**Goal:** Determine how many unique languages are spoken at home"
   ]
  },
  {
   "cell_type": "code",
   "execution_count": null,
   "id": "e8f20ac0-251a-4e2e-a3f5-f94a7fa7e52b",
   "metadata": {},
   "outputs": [],
   "source": [
    "languages = df[\"LanguageAtHome\"]"
   ]
  },
  {
   "cell_type": "code",
   "execution_count": null,
   "id": "9f6a1802-1b42-407e-be0b-90163bb53718",
   "metadata": {},
   "outputs": [],
   "source": [
    "type(languages)"
   ]
  },
  {
   "cell_type": "code",
   "execution_count": null,
   "id": "86dee47c-f728-4858-88bc-881958601cd0",
   "metadata": {},
   "outputs": [],
   "source": [
    "languages.head()"
   ]
  },
  {
   "cell_type": "code",
   "execution_count": null,
   "id": "c9008bd8-5985-4430-a99b-3437bf93f018",
   "metadata": {},
   "outputs": [],
   "source": [
    "# expected length?\n",
    "len(languages)"
   ]
  },
  {
   "cell_type": "code",
   "execution_count": null,
   "id": "f5d81fb3-dba3-455d-b427-e5907a31d856",
   "metadata": {},
   "outputs": [],
   "source": [
    "unique_languages = pd.unique(languages)\n",
    "print(unique_languages)"
   ]
  },
  {
   "cell_type": "code",
   "execution_count": null,
   "id": "c3f8236c-6992-4591-bc11-2290e698dbde",
   "metadata": {},
   "outputs": [],
   "source": [
    "len(unique_languages)"
   ]
  },
  {
   "cell_type": "code",
   "execution_count": null,
   "id": "a4561252-4066-4f17-9fd0-95c04f8e46cf",
   "metadata": {},
   "outputs": [],
   "source": [
    "# examine country of residence and language at home\n",
    "columns = [\"LanguageAtHome\", \"CountryOfResidence\"]"
   ]
  },
  {
   "cell_type": "code",
   "execution_count": null,
   "id": "27e54107-b7cc-40c2-acda-d4a4267679dc",
   "metadata": {},
   "outputs": [],
   "source": [
    "type(columns)"
   ]
  },
  {
   "cell_type": "code",
   "execution_count": null,
   "id": "ce3ae3ee-857b-4d47-9192-8bf9b7e893f8",
   "metadata": {},
   "outputs": [],
   "source": [
    "country_columns = df[columns] # selects two columns"
   ]
  },
  {
   "cell_type": "code",
   "execution_count": null,
   "id": "459647cc-5d18-4b2b-95c3-d051de40c5ca",
   "metadata": {},
   "outputs": [],
   "source": [
    "type(country_columns)"
   ]
  },
  {
   "cell_type": "code",
   "execution_count": null,
   "id": "dca854ba-a601-489a-a3a1-5dc06cb2b0c9",
   "metadata": {},
   "outputs": [],
   "source": [
    "country_columns.head()"
   ]
  },
  {
   "cell_type": "code",
   "execution_count": null,
   "id": "4f1a19ed-30c0-4290-9360-07cc2a8e3680",
   "metadata": {},
   "outputs": [],
   "source": [
    "country_columns.sample(5)"
   ]
  },
  {
   "cell_type": "code",
   "execution_count": null,
   "id": "5e78e885-08dd-4305-9dd2-e1aa927094b9",
   "metadata": {},
   "outputs": [],
   "source": [
    "country = df[\"CountryOfResidence\"] # can you spot the error?"
   ]
  },
  {
   "cell_type": "code",
   "execution_count": null,
   "id": "86d59189-87c4-4ca1-9f72-84d5c1d37e32",
   "metadata": {},
   "outputs": [],
   "source": [
    "country.head()"
   ]
  },
  {
   "cell_type": "markdown",
   "id": "e11afdcf-2e23-4a53-bfea-af75f37393d8",
   "metadata": {},
   "source": [
    "**Goal:** Count and visualize distributions of age and hours spent learning to code"
   ]
  },
  {
   "cell_type": "code",
   "execution_count": null,
   "id": "351cee1e-debe-4d71-8a30-259b5595a037",
   "metadata": {},
   "outputs": [],
   "source": [
    "age = df[\"Age\"]"
   ]
  },
  {
   "cell_type": "code",
   "execution_count": null,
   "id": "acefb90f-fc56-4038-b8f6-c02165ba85c7",
   "metadata": {},
   "outputs": [],
   "source": [
    "age.hist()"
   ]
  },
  {
   "cell_type": "code",
   "execution_count": null,
   "id": "5eab5f9d-40ce-4ff6-b6b1-a1e6baf12a66",
   "metadata": {},
   "outputs": [],
   "source": [
    "age.hist(bins=20, color='skyblue', edgecolor='black', grid=False, alpha=0.7)"
   ]
  },
  {
   "cell_type": "code",
   "execution_count": null,
   "id": "bfbf97e2-37c3-4fdb-9fe2-25739c0cc566",
   "metadata": {},
   "outputs": [],
   "source": [
    "age.count() # number of non-null values"
   ]
  },
  {
   "cell_type": "code",
   "execution_count": null,
   "id": "8f0cfdce-6994-4f4b-abf0-78e2031cadcb",
   "metadata": {},
   "outputs": [],
   "source": [
    "len(age)"
   ]
  },
  {
   "cell_type": "code",
   "execution_count": null,
   "id": "43a66ea5-1ae7-4f5e-ae01-116ff2e4233f",
   "metadata": {},
   "outputs": [],
   "source": [
    "df.count()"
   ]
  },
  {
   "cell_type": "code",
   "execution_count": null,
   "id": "3280548c-0997-47c9-90a9-2a8293f57dc5",
   "metadata": {},
   "outputs": [],
   "source": [
    "hours = df[\"HoursSpentLearningToCode\"]"
   ]
  },
  {
   "cell_type": "code",
   "execution_count": null,
   "id": "a88acc3c-8cf7-42dc-a1c3-2172aef88b90",
   "metadata": {},
   "outputs": [],
   "source": [
    "hours.hist(bins=40, color='skyblue', edgecolor='black', grid=False, alpha=0.7)"
   ]
  },
  {
   "cell_type": "code",
   "execution_count": null,
   "id": "b80ee34c-843c-4b37-bbc5-f7db2a257bc8",
   "metadata": {},
   "outputs": [],
   "source": [
    "# total hours spent learning to code\n",
    "hours.sum()"
   ]
  },
  {
   "cell_type": "code",
   "execution_count": null,
   "id": "df71f003-6223-4479-b73a-b26a1aee50b7",
   "metadata": {},
   "outputs": [],
   "source": [
    "money = df[\"MoneySpentLearningToCode\"]"
   ]
  },
  {
   "cell_type": "code",
   "execution_count": null,
   "id": "17b57874-9e73-427c-ab74-0ae6a25b3ec6",
   "metadata": {},
   "outputs": [],
   "source": [
    "money.hist(bins=40, color='skyblue', edgecolor='black', grid=False, alpha=0.7)"
   ]
  },
  {
   "cell_type": "code",
   "execution_count": null,
   "id": "806c90ac-058c-4571-b7e7-392c7913b97a",
   "metadata": {},
   "outputs": [],
   "source": [
    "money.sum()"
   ]
  }
 ],
 "metadata": {
  "kernelspec": {
   "display_name": "Python 3 (ipykernel)",
   "language": "python",
   "name": "python3"
  },
  "language_info": {
   "codemirror_mode": {
    "name": "ipython",
    "version": 3
   },
   "file_extension": ".py",
   "mimetype": "text/x-python",
   "name": "python",
   "nbconvert_exporter": "python",
   "pygments_lexer": "ipython3",
   "version": "3.11.6"
  }
 },
 "nbformat": 4,
 "nbformat_minor": 5
}
