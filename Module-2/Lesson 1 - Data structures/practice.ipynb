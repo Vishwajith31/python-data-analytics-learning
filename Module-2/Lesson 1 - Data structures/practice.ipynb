{
 "cells": [
  {
   "cell_type": "code",
   "execution_count": 1,
   "id": "6a21d124-2e69-4960-a98f-df906d03728c",
   "metadata": {},
   "outputs": [],
   "source": [
    "import pandas as pd"
   ]
  },
  {
   "cell_type": "code",
   "execution_count": 2,
   "id": "5d934edb-81f7-49a2-bdbf-7f8b7d0dfeb7",
   "metadata": {},
   "outputs": [],
   "source": [
    "df = pd.read_csv('survey_data.csv')"
   ]
  },
  {
   "cell_type": "code",
   "execution_count": 4,
   "id": "98540db5-445c-48ee-9c0c-fa462826622f",
   "metadata": {},
   "outputs": [
    {
     "data": {
      "text/html": [
       "<div>\n",
       "<style scoped>\n",
       "    .dataframe tbody tr th:only-of-type {\n",
       "        vertical-align: middle;\n",
       "    }\n",
       "\n",
       "    .dataframe tbody tr th {\n",
       "        vertical-align: top;\n",
       "    }\n",
       "\n",
       "    .dataframe thead th {\n",
       "        text-align: right;\n",
       "    }\n",
       "</style>\n",
       "<table border=\"1\" class=\"dataframe\">\n",
       "  <thead>\n",
       "    <tr style=\"text-align: right;\">\n",
       "      <th></th>\n",
       "      <th>Age</th>\n",
       "      <th>Gender</th>\n",
       "      <th>NumberOfChildren</th>\n",
       "      <th>CountryOfResidence</th>\n",
       "      <th>LanguageAtHome</th>\n",
       "      <th>HoursSpentLearningToCode</th>\n",
       "      <th>Income</th>\n",
       "      <th>StudentDebtOwe</th>\n",
       "      <th>IsSoftwareDev</th>\n",
       "      <th>MaritalStatus</th>\n",
       "      <th>MoneySpentLearningToCode</th>\n",
       "      <th>MonthsSpentProgramming</th>\n",
       "      <th>YearsSpentLearningToCode</th>\n",
       "      <th>LearningViaBooks</th>\n",
       "      <th>LearningViaCoursera</th>\n",
       "    </tr>\n",
       "  </thead>\n",
       "  <tbody>\n",
       "    <tr>\n",
       "      <th>0</th>\n",
       "      <td>28.0</td>\n",
       "      <td>male</td>\n",
       "      <td>NaN</td>\n",
       "      <td>United States of America</td>\n",
       "      <td>English</td>\n",
       "      <td>30.0</td>\n",
       "      <td>32000.0</td>\n",
       "      <td>20000.0</td>\n",
       "      <td>False</td>\n",
       "      <td>married or domestic partnership</td>\n",
       "      <td>0.0</td>\n",
       "      <td>1.0</td>\n",
       "      <td>0.08333333333</td>\n",
       "      <td>NaN</td>\n",
       "      <td>1.0</td>\n",
       "    </tr>\n",
       "    <tr>\n",
       "      <th>1</th>\n",
       "      <td>22.0</td>\n",
       "      <td>male</td>\n",
       "      <td>NaN</td>\n",
       "      <td>United States of America</td>\n",
       "      <td>English</td>\n",
       "      <td>30.0</td>\n",
       "      <td>15000.0</td>\n",
       "      <td>NaN</td>\n",
       "      <td>False</td>\n",
       "      <td>NaN</td>\n",
       "      <td>20.0</td>\n",
       "      <td>2.0</td>\n",
       "      <td>0.1666666667</td>\n",
       "      <td>NaN</td>\n",
       "      <td>1.0</td>\n",
       "    </tr>\n",
       "    <tr>\n",
       "      <th>2</th>\n",
       "      <td>19.0</td>\n",
       "      <td>male</td>\n",
       "      <td>NaN</td>\n",
       "      <td>United States of America</td>\n",
       "      <td>English</td>\n",
       "      <td>20.0</td>\n",
       "      <td>48000.0</td>\n",
       "      <td>NaN</td>\n",
       "      <td>False</td>\n",
       "      <td>NaN</td>\n",
       "      <td>50.0</td>\n",
       "      <td>24.0</td>\n",
       "      <td>2</td>\n",
       "      <td>NaN</td>\n",
       "      <td>NaN</td>\n",
       "    </tr>\n",
       "    <tr>\n",
       "      <th>3</th>\n",
       "      <td>26.0</td>\n",
       "      <td>female</td>\n",
       "      <td>NaN</td>\n",
       "      <td>United States of America</td>\n",
       "      <td>English</td>\n",
       "      <td>20.0</td>\n",
       "      <td>43000.0</td>\n",
       "      <td>7000.0</td>\n",
       "      <td>False</td>\n",
       "      <td>NaN</td>\n",
       "      <td>100.0</td>\n",
       "      <td>3.0</td>\n",
       "      <td>0.25</td>\n",
       "      <td>NaN</td>\n",
       "      <td>NaN</td>\n",
       "    </tr>\n",
       "    <tr>\n",
       "      <th>4</th>\n",
       "      <td>20.0</td>\n",
       "      <td>female</td>\n",
       "      <td>NaN</td>\n",
       "      <td>United States of America</td>\n",
       "      <td>Khmer</td>\n",
       "      <td>25.0</td>\n",
       "      <td>6000.0</td>\n",
       "      <td>NaN</td>\n",
       "      <td>False</td>\n",
       "      <td>NaN</td>\n",
       "      <td>1300.0</td>\n",
       "      <td>48.0</td>\n",
       "      <td>4</td>\n",
       "      <td>NaN</td>\n",
       "      <td>NaN</td>\n",
       "    </tr>\n",
       "  </tbody>\n",
       "</table>\n",
       "</div>"
      ],
      "text/plain": [
       "    Age  Gender  NumberOfChildren        CountryOfResidence LanguageAtHome  \\\n",
       "0  28.0    male               NaN  United States of America        English   \n",
       "1  22.0    male               NaN  United States of America        English   \n",
       "2  19.0    male               NaN  United States of America        English   \n",
       "3  26.0  female               NaN  United States of America        English   \n",
       "4  20.0  female               NaN  United States of America          Khmer   \n",
       "\n",
       "   HoursSpentLearningToCode   Income  StudentDebtOwe  IsSoftwareDev  \\\n",
       "0                      30.0  32000.0         20000.0          False   \n",
       "1                      30.0  15000.0             NaN          False   \n",
       "2                      20.0  48000.0             NaN          False   \n",
       "3                      20.0  43000.0          7000.0          False   \n",
       "4                      25.0   6000.0             NaN          False   \n",
       "\n",
       "                     MaritalStatus  MoneySpentLearningToCode  \\\n",
       "0  married or domestic partnership                       0.0   \n",
       "1                              NaN                      20.0   \n",
       "2                              NaN                      50.0   \n",
       "3                              NaN                     100.0   \n",
       "4                              NaN                    1300.0   \n",
       "\n",
       "   MonthsSpentProgramming YearsSpentLearningToCode  LearningViaBooks  \\\n",
       "0                     1.0            0.08333333333               NaN   \n",
       "1                     2.0             0.1666666667               NaN   \n",
       "2                    24.0                        2               NaN   \n",
       "3                     3.0                     0.25               NaN   \n",
       "4                    48.0                        4               NaN   \n",
       "\n",
       "   LearningViaCoursera  \n",
       "0                  1.0  \n",
       "1                  1.0  \n",
       "2                  NaN  \n",
       "3                  NaN  \n",
       "4                  NaN  "
      ]
     },
     "execution_count": 4,
     "metadata": {},
     "output_type": "execute_result"
    }
   ],
   "source": [
    "df.head()"
   ]
  },
  {
   "cell_type": "code",
   "execution_count": 5,
   "id": "144955f1-fd72-43ab-898c-f313143b21f8",
   "metadata": {},
   "outputs": [
    {
     "name": "stdout",
     "output_type": "stream",
     "text": [
      "<class 'pandas.core.frame.DataFrame'>\n",
      "RangeIndex: 15620 entries, 0 to 15619\n",
      "Data columns (total 15 columns):\n",
      " #   Column                    Non-Null Count  Dtype  \n",
      "---  ------                    --------------  -----  \n",
      " 0   Age                       13613 non-null  float64\n",
      " 1   Gender                    13746 non-null  object \n",
      " 2   NumberOfChildren          2549 non-null   float64\n",
      " 3   CountryOfResidence        13610 non-null  object \n",
      " 4   LanguageAtHome            13582 non-null  object \n",
      " 5   HoursSpentLearningToCode  14942 non-null  float64\n",
      " 6   Income                    7329 non-null   float64\n",
      " 7   StudentDebtOwe            3438 non-null   float64\n",
      " 8   IsSoftwareDev             15620 non-null  bool   \n",
      " 9   MaritalStatus             4010 non-null   object \n",
      " 10  MoneySpentLearningToCode  14679 non-null  float64\n",
      " 11  MonthsSpentProgramming    15014 non-null  float64\n",
      " 12  YearsSpentLearningToCode  15620 non-null  object \n",
      " 13  LearningViaBooks          144 non-null    float64\n",
      " 14  LearningViaCoursera       4844 non-null   float64\n",
      "dtypes: bool(1), float64(9), object(5)\n",
      "memory usage: 1.7+ MB\n"
     ]
    }
   ],
   "source": [
    "df.info()"
   ]
  },
  {
   "cell_type": "code",
   "execution_count": 6,
   "id": "19871e40-f1e6-414b-9e29-3fd9f53b989c",
   "metadata": {},
   "outputs": [
    {
     "data": {
      "text/html": [
       "<div>\n",
       "<style scoped>\n",
       "    .dataframe tbody tr th:only-of-type {\n",
       "        vertical-align: middle;\n",
       "    }\n",
       "\n",
       "    .dataframe tbody tr th {\n",
       "        vertical-align: top;\n",
       "    }\n",
       "\n",
       "    .dataframe thead th {\n",
       "        text-align: right;\n",
       "    }\n",
       "</style>\n",
       "<table border=\"1\" class=\"dataframe\">\n",
       "  <thead>\n",
       "    <tr style=\"text-align: right;\">\n",
       "      <th></th>\n",
       "      <th>Age</th>\n",
       "      <th>NumberOfChildren</th>\n",
       "      <th>HoursSpentLearningToCode</th>\n",
       "      <th>Income</th>\n",
       "      <th>StudentDebtOwe</th>\n",
       "      <th>MoneySpentLearningToCode</th>\n",
       "      <th>MonthsSpentProgramming</th>\n",
       "      <th>LearningViaBooks</th>\n",
       "      <th>LearningViaCoursera</th>\n",
       "    </tr>\n",
       "  </thead>\n",
       "  <tbody>\n",
       "    <tr>\n",
       "      <th>count</th>\n",
       "      <td>13613.000000</td>\n",
       "      <td>2549.000000</td>\n",
       "      <td>14942.000000</td>\n",
       "      <td>7329.000000</td>\n",
       "      <td>3438.000000</td>\n",
       "      <td>14679.000000</td>\n",
       "      <td>15014.000000</td>\n",
       "      <td>144.0</td>\n",
       "      <td>4844.0</td>\n",
       "    </tr>\n",
       "    <tr>\n",
       "      <th>mean</th>\n",
       "      <td>29.175421</td>\n",
       "      <td>1.899961</td>\n",
       "      <td>15.323317</td>\n",
       "      <td>44930.010506</td>\n",
       "      <td>33489.955207</td>\n",
       "      <td>1108.010559</td>\n",
       "      <td>24.430198</td>\n",
       "      <td>1.0</td>\n",
       "      <td>1.0</td>\n",
       "    </tr>\n",
       "    <tr>\n",
       "      <th>std</th>\n",
       "      <td>9.017716</td>\n",
       "      <td>1.113900</td>\n",
       "      <td>14.274867</td>\n",
       "      <td>35582.783216</td>\n",
       "      <td>38173.579783</td>\n",
       "      <td>4860.825612</td>\n",
       "      <td>49.426744</td>\n",
       "      <td>0.0</td>\n",
       "      <td>0.0</td>\n",
       "    </tr>\n",
       "    <tr>\n",
       "      <th>min</th>\n",
       "      <td>10.000000</td>\n",
       "      <td>1.000000</td>\n",
       "      <td>0.000000</td>\n",
       "      <td>6000.000000</td>\n",
       "      <td>1000.000000</td>\n",
       "      <td>0.000000</td>\n",
       "      <td>0.000000</td>\n",
       "      <td>1.0</td>\n",
       "      <td>1.0</td>\n",
       "    </tr>\n",
       "    <tr>\n",
       "      <th>25%</th>\n",
       "      <td>23.000000</td>\n",
       "      <td>1.000000</td>\n",
       "      <td>5.000000</td>\n",
       "      <td>20000.000000</td>\n",
       "      <td>10000.000000</td>\n",
       "      <td>0.000000</td>\n",
       "      <td>3.000000</td>\n",
       "      <td>1.0</td>\n",
       "      <td>1.0</td>\n",
       "    </tr>\n",
       "    <tr>\n",
       "      <th>50%</th>\n",
       "      <td>27.000000</td>\n",
       "      <td>2.000000</td>\n",
       "      <td>10.000000</td>\n",
       "      <td>37000.000000</td>\n",
       "      <td>22000.000000</td>\n",
       "      <td>30.000000</td>\n",
       "      <td>9.000000</td>\n",
       "      <td>1.0</td>\n",
       "      <td>1.0</td>\n",
       "    </tr>\n",
       "    <tr>\n",
       "      <th>75%</th>\n",
       "      <td>33.000000</td>\n",
       "      <td>2.000000</td>\n",
       "      <td>20.000000</td>\n",
       "      <td>60000.000000</td>\n",
       "      <td>40000.000000</td>\n",
       "      <td>300.000000</td>\n",
       "      <td>24.000000</td>\n",
       "      <td>1.0</td>\n",
       "      <td>1.0</td>\n",
       "    </tr>\n",
       "    <tr>\n",
       "      <th>max</th>\n",
       "      <td>86.000000</td>\n",
       "      <td>18.000000</td>\n",
       "      <td>100.000000</td>\n",
       "      <td>200000.000000</td>\n",
       "      <td>500000.000000</td>\n",
       "      <td>180000.000000</td>\n",
       "      <td>720.000000</td>\n",
       "      <td>1.0</td>\n",
       "      <td>1.0</td>\n",
       "    </tr>\n",
       "  </tbody>\n",
       "</table>\n",
       "</div>"
      ],
      "text/plain": [
       "                Age  NumberOfChildren  HoursSpentLearningToCode  \\\n",
       "count  13613.000000       2549.000000              14942.000000   \n",
       "mean      29.175421          1.899961                 15.323317   \n",
       "std        9.017716          1.113900                 14.274867   \n",
       "min       10.000000          1.000000                  0.000000   \n",
       "25%       23.000000          1.000000                  5.000000   \n",
       "50%       27.000000          2.000000                 10.000000   \n",
       "75%       33.000000          2.000000                 20.000000   \n",
       "max       86.000000         18.000000                100.000000   \n",
       "\n",
       "              Income  StudentDebtOwe  MoneySpentLearningToCode  \\\n",
       "count    7329.000000     3438.000000              14679.000000   \n",
       "mean    44930.010506    33489.955207               1108.010559   \n",
       "std     35582.783216    38173.579783               4860.825612   \n",
       "min      6000.000000     1000.000000                  0.000000   \n",
       "25%     20000.000000    10000.000000                  0.000000   \n",
       "50%     37000.000000    22000.000000                 30.000000   \n",
       "75%     60000.000000    40000.000000                300.000000   \n",
       "max    200000.000000   500000.000000             180000.000000   \n",
       "\n",
       "       MonthsSpentProgramming  LearningViaBooks  LearningViaCoursera  \n",
       "count            15014.000000             144.0               4844.0  \n",
       "mean                24.430198               1.0                  1.0  \n",
       "std                 49.426744               0.0                  0.0  \n",
       "min                  0.000000               1.0                  1.0  \n",
       "25%                  3.000000               1.0                  1.0  \n",
       "50%                  9.000000               1.0                  1.0  \n",
       "75%                 24.000000               1.0                  1.0  \n",
       "max                720.000000               1.0                  1.0  "
      ]
     },
     "execution_count": 6,
     "metadata": {},
     "output_type": "execute_result"
    }
   ],
   "source": [
    "df.describe()"
   ]
  },
  {
   "cell_type": "code",
   "execution_count": 7,
   "id": "8149d74e-c354-41a6-bbf7-974700f9ad96",
   "metadata": {},
   "outputs": [
    {
     "data": {
      "text/html": [
       "<div>\n",
       "<style scoped>\n",
       "    .dataframe tbody tr th:only-of-type {\n",
       "        vertical-align: middle;\n",
       "    }\n",
       "\n",
       "    .dataframe tbody tr th {\n",
       "        vertical-align: top;\n",
       "    }\n",
       "\n",
       "    .dataframe thead th {\n",
       "        text-align: right;\n",
       "    }\n",
       "</style>\n",
       "<table border=\"1\" class=\"dataframe\">\n",
       "  <thead>\n",
       "    <tr style=\"text-align: right;\">\n",
       "      <th></th>\n",
       "      <th>Age</th>\n",
       "      <th>Gender</th>\n",
       "      <th>NumberOfChildren</th>\n",
       "      <th>CountryOfResidence</th>\n",
       "      <th>LanguageAtHome</th>\n",
       "      <th>HoursSpentLearningToCode</th>\n",
       "      <th>Income</th>\n",
       "      <th>StudentDebtOwe</th>\n",
       "      <th>IsSoftwareDev</th>\n",
       "      <th>MaritalStatus</th>\n",
       "      <th>MoneySpentLearningToCode</th>\n",
       "      <th>MonthsSpentProgramming</th>\n",
       "      <th>YearsSpentLearningToCode</th>\n",
       "      <th>LearningViaBooks</th>\n",
       "      <th>LearningViaCoursera</th>\n",
       "    </tr>\n",
       "  </thead>\n",
       "  <tbody>\n",
       "    <tr>\n",
       "      <th>14395</th>\n",
       "      <td>35.0</td>\n",
       "      <td>male</td>\n",
       "      <td>2.0</td>\n",
       "      <td>United States of America</td>\n",
       "      <td>English</td>\n",
       "      <td>15.0</td>\n",
       "      <td>73000.0</td>\n",
       "      <td>10000.0</td>\n",
       "      <td>False</td>\n",
       "      <td>married or domestic partnership</td>\n",
       "      <td>10000.0</td>\n",
       "      <td>13.0</td>\n",
       "      <td>1.083333333</td>\n",
       "      <td>NaN</td>\n",
       "      <td>NaN</td>\n",
       "    </tr>\n",
       "  </tbody>\n",
       "</table>\n",
       "</div>"
      ],
      "text/plain": [
       "        Age Gender  NumberOfChildren        CountryOfResidence LanguageAtHome  \\\n",
       "14395  35.0   male               2.0  United States of America        English   \n",
       "\n",
       "       HoursSpentLearningToCode   Income  StudentDebtOwe  IsSoftwareDev  \\\n",
       "14395                      15.0  73000.0         10000.0          False   \n",
       "\n",
       "                         MaritalStatus  MoneySpentLearningToCode  \\\n",
       "14395  married or domestic partnership                   10000.0   \n",
       "\n",
       "       MonthsSpentProgramming YearsSpentLearningToCode  LearningViaBooks  \\\n",
       "14395                    13.0              1.083333333               NaN   \n",
       "\n",
       "       LearningViaCoursera  \n",
       "14395                  NaN  "
      ]
     },
     "execution_count": 7,
     "metadata": {},
     "output_type": "execute_result"
    }
   ],
   "source": [
    "df.sample()"
   ]
  },
  {
   "cell_type": "code",
   "execution_count": 8,
   "id": "d4deca03-cc5d-42e1-bb8b-65b2afe13e95",
   "metadata": {},
   "outputs": [
    {
     "data": {
      "text/html": [
       "<div>\n",
       "<style scoped>\n",
       "    .dataframe tbody tr th:only-of-type {\n",
       "        vertical-align: middle;\n",
       "    }\n",
       "\n",
       "    .dataframe tbody tr th {\n",
       "        vertical-align: top;\n",
       "    }\n",
       "\n",
       "    .dataframe thead th {\n",
       "        text-align: right;\n",
       "    }\n",
       "</style>\n",
       "<table border=\"1\" class=\"dataframe\">\n",
       "  <thead>\n",
       "    <tr style=\"text-align: right;\">\n",
       "      <th></th>\n",
       "      <th>Age</th>\n",
       "      <th>Gender</th>\n",
       "      <th>NumberOfChildren</th>\n",
       "      <th>CountryOfResidence</th>\n",
       "      <th>LanguageAtHome</th>\n",
       "      <th>HoursSpentLearningToCode</th>\n",
       "      <th>Income</th>\n",
       "      <th>StudentDebtOwe</th>\n",
       "      <th>IsSoftwareDev</th>\n",
       "      <th>MaritalStatus</th>\n",
       "      <th>MoneySpentLearningToCode</th>\n",
       "      <th>MonthsSpentProgramming</th>\n",
       "      <th>YearsSpentLearningToCode</th>\n",
       "      <th>LearningViaBooks</th>\n",
       "      <th>LearningViaCoursera</th>\n",
       "    </tr>\n",
       "  </thead>\n",
       "  <tbody>\n",
       "    <tr>\n",
       "      <th>10777</th>\n",
       "      <td>18.0</td>\n",
       "      <td>male</td>\n",
       "      <td>NaN</td>\n",
       "      <td>South Africa</td>\n",
       "      <td>English</td>\n",
       "      <td>20.0</td>\n",
       "      <td>NaN</td>\n",
       "      <td>NaN</td>\n",
       "      <td>False</td>\n",
       "      <td>NaN</td>\n",
       "      <td>0.0</td>\n",
       "      <td>12.0</td>\n",
       "      <td>1</td>\n",
       "      <td>NaN</td>\n",
       "      <td>NaN</td>\n",
       "    </tr>\n",
       "    <tr>\n",
       "      <th>10402</th>\n",
       "      <td>20.0</td>\n",
       "      <td>male</td>\n",
       "      <td>NaN</td>\n",
       "      <td>India</td>\n",
       "      <td>Hindi</td>\n",
       "      <td>5.0</td>\n",
       "      <td>NaN</td>\n",
       "      <td>NaN</td>\n",
       "      <td>False</td>\n",
       "      <td>NaN</td>\n",
       "      <td>700.0</td>\n",
       "      <td>7.0</td>\n",
       "      <td>0.5833333333</td>\n",
       "      <td>NaN</td>\n",
       "      <td>1.0</td>\n",
       "    </tr>\n",
       "    <tr>\n",
       "      <th>8552</th>\n",
       "      <td>26.0</td>\n",
       "      <td>male</td>\n",
       "      <td>NaN</td>\n",
       "      <td>India</td>\n",
       "      <td>Hindi</td>\n",
       "      <td>12.0</td>\n",
       "      <td>NaN</td>\n",
       "      <td>NaN</td>\n",
       "      <td>True</td>\n",
       "      <td>NaN</td>\n",
       "      <td>0.0</td>\n",
       "      <td>50.0</td>\n",
       "      <td>4.166666667</td>\n",
       "      <td>NaN</td>\n",
       "      <td>NaN</td>\n",
       "    </tr>\n",
       "    <tr>\n",
       "      <th>5750</th>\n",
       "      <td>33.0</td>\n",
       "      <td>male</td>\n",
       "      <td>NaN</td>\n",
       "      <td>United States of America</td>\n",
       "      <td>English</td>\n",
       "      <td>10.0</td>\n",
       "      <td>47000.0</td>\n",
       "      <td>NaN</td>\n",
       "      <td>True</td>\n",
       "      <td>NaN</td>\n",
       "      <td>0.0</td>\n",
       "      <td>24.0</td>\n",
       "      <td>2</td>\n",
       "      <td>NaN</td>\n",
       "      <td>NaN</td>\n",
       "    </tr>\n",
       "    <tr>\n",
       "      <th>14565</th>\n",
       "      <td>40.0</td>\n",
       "      <td>male</td>\n",
       "      <td>2.0</td>\n",
       "      <td>United States of America</td>\n",
       "      <td>English</td>\n",
       "      <td>14.0</td>\n",
       "      <td>121000.0</td>\n",
       "      <td>NaN</td>\n",
       "      <td>False</td>\n",
       "      <td>married or domestic partnership</td>\n",
       "      <td>1500.0</td>\n",
       "      <td>12.0</td>\n",
       "      <td>1</td>\n",
       "      <td>NaN</td>\n",
       "      <td>NaN</td>\n",
       "    </tr>\n",
       "  </tbody>\n",
       "</table>\n",
       "</div>"
      ],
      "text/plain": [
       "        Age Gender  NumberOfChildren        CountryOfResidence LanguageAtHome  \\\n",
       "10777  18.0   male               NaN              South Africa        English   \n",
       "10402  20.0   male               NaN                     India          Hindi   \n",
       "8552   26.0   male               NaN                     India          Hindi   \n",
       "5750   33.0   male               NaN  United States of America        English   \n",
       "14565  40.0   male               2.0  United States of America        English   \n",
       "\n",
       "       HoursSpentLearningToCode    Income  StudentDebtOwe  IsSoftwareDev  \\\n",
       "10777                      20.0       NaN             NaN          False   \n",
       "10402                       5.0       NaN             NaN          False   \n",
       "8552                       12.0       NaN             NaN           True   \n",
       "5750                       10.0   47000.0             NaN           True   \n",
       "14565                      14.0  121000.0             NaN          False   \n",
       "\n",
       "                         MaritalStatus  MoneySpentLearningToCode  \\\n",
       "10777                              NaN                       0.0   \n",
       "10402                              NaN                     700.0   \n",
       "8552                               NaN                       0.0   \n",
       "5750                               NaN                       0.0   \n",
       "14565  married or domestic partnership                    1500.0   \n",
       "\n",
       "       MonthsSpentProgramming YearsSpentLearningToCode  LearningViaBooks  \\\n",
       "10777                    12.0                        1               NaN   \n",
       "10402                     7.0             0.5833333333               NaN   \n",
       "8552                     50.0              4.166666667               NaN   \n",
       "5750                     24.0                        2               NaN   \n",
       "14565                    12.0                        1               NaN   \n",
       "\n",
       "       LearningViaCoursera  \n",
       "10777                  NaN  \n",
       "10402                  1.0  \n",
       "8552                   NaN  \n",
       "5750                   NaN  \n",
       "14565                  NaN  "
      ]
     },
     "execution_count": 8,
     "metadata": {},
     "output_type": "execute_result"
    }
   ],
   "source": [
    "df.sample(5)"
   ]
  },
  {
   "cell_type": "code",
   "execution_count": 9,
   "id": "8f639585-bd4f-4111-a395-2304744cdf67",
   "metadata": {},
   "outputs": [
    {
     "data": {
      "text/plain": [
       "Index(['Age', 'Gender', 'NumberOfChildren', 'CountryOfResidence',\n",
       "       'LanguageAtHome', 'HoursSpentLearningToCode', 'Income',\n",
       "       'StudentDebtOwe', 'IsSoftwareDev', 'MaritalStatus',\n",
       "       'MoneySpentLearningToCode', 'MonthsSpentProgramming',\n",
       "       'YearsSpentLearningToCode', 'LearningViaBooks', 'LearningViaCoursera'],\n",
       "      dtype='object')"
      ]
     },
     "execution_count": 9,
     "metadata": {},
     "output_type": "execute_result"
    }
   ],
   "source": [
    "df.columns"
   ]
  },
  {
   "cell_type": "code",
   "execution_count": 13,
   "id": "4e1c27a7-e5f4-4d07-8eff-1abdcf1c44cd",
   "metadata": {},
   "outputs": [
    {
     "data": {
      "text/plain": [
       "0        English\n",
       "1        English\n",
       "2        English\n",
       "3        English\n",
       "4          Khmer\n",
       "          ...   \n",
       "15615    English\n",
       "15616    English\n",
       "15617    English\n",
       "15618    English\n",
       "15619    English\n",
       "Name: LanguageAtHome, Length: 15620, dtype: object"
      ]
     },
     "execution_count": 13,
     "metadata": {},
     "output_type": "execute_result"
    }
   ],
   "source": [
    "languages = df['LanguageAtHome']\n",
    "languages"
   ]
  },
  {
   "cell_type": "code",
   "execution_count": 14,
   "id": "6ffc1fb4-7722-417e-ba8d-86bb3f6a397d",
   "metadata": {},
   "outputs": [
    {
     "data": {
      "text/plain": [
       "pandas.core.series.Series"
      ]
     },
     "execution_count": 14,
     "metadata": {},
     "output_type": "execute_result"
    }
   ],
   "source": [
    "type(languages)"
   ]
  },
  {
   "cell_type": "code",
   "execution_count": 16,
   "id": "015801a8-9dbb-4504-9f8c-cd0329618400",
   "metadata": {},
   "outputs": [
    {
     "data": {
      "text/plain": [
       "array(['English', 'Khmer', 'Mandarin Chinese', 'Telugu', 'Bengali',\n",
       "       'Russian', 'Serbo-Croatian', 'Hindi', 'Spanish', 'Portuguese',\n",
       "       'Swedish', 'Yue (Cantonese) Chinese', 'French', 'Dutch', 'Urdu',\n",
       "       nan, 'Nepali', 'Greek', 'Pashto', 'Marathi', 'Arabic', 'Tamil',\n",
       "       'Polish', 'German', 'Punjabi', 'Italian', 'Kazakh', 'Korean',\n",
       "       'Vietnamese', 'Tagalog', 'Odia (Oriya)', 'Gujarati', 'Yoruba',\n",
       "       'Marwari', 'Malayalam', 'Akan', 'Cebuano (Visayan)', 'Belarusian',\n",
       "       'Somali', 'Kannada', 'Czech', 'Turkish', 'Romanian', 'Slovenian',\n",
       "       'Ukrainian', 'Hungarian', 'Malay Bhasa Indonesia', 'Oromo',\n",
       "       'Slovene', 'Sindhi', 'Persian', 'Sinhalese', 'Kinyarwanda',\n",
       "       'Malagasy', 'Burmese', 'Hmong', 'Lithuanian', 'Bhojpuri', 'Igbo',\n",
       "       'Konkani', 'Japanese', 'Ilocano', 'Thai', 'Latvian', 'Indonesian',\n",
       "       'Danish', 'Hakka', 'Chinese', 'Kikuyu', 'Croatian', 'Serbian',\n",
       "       'Bulgarian', 'Finnish', 'Icelandic', 'Slovak', 'Bosnian',\n",
       "       'Macedonian', 'Uzbek', 'Swahili', 'Palatinate German', 'Hausa',\n",
       "       'Asturian', 'Hebrew', 'Piedmontese', 'Norwegian', 'Sesotho',\n",
       "       'Armenian', 'Albanian', 'Esperanto', 'Afrikaans', 'Cebuano',\n",
       "       'Catalan', 'Chichewa', 'Maithili', 'Assamese', 'Lak', 'Hiligaynon',\n",
       "       'Oriya', 'Javanese', 'Turkmen', 'Newar', 'Egyptian Arabic',\n",
       "       'Estonian', 'Amharic', 'Azerbaijani', 'Lao', 'Tatar', 'Romani',\n",
       "       'Kashmiri', 'Haitian Creole', 'Bishnupriya Manipuri', 'Tswana',\n",
       "       'Georgian', 'Balochi', 'Twi', 'Northern Sotho', 'Tigrinya',\n",
       "       'Mongolian', 'Shona', 'Southern Min', 'Tibetan',\n",
       "       'Central Bicolano', 'Galician', 'Karachay-Balkar', 'Kirghiz',\n",
       "       'Alemannic', 'Haryanvi', 'Fiji Hindi', 'Adyghe', 'Ewe', 'Xhosa',\n",
       "       'Basque', 'Neapolitan', 'Zulu', 'Kurdish', 'Yiddish', 'Abkhazian',\n",
       "       'Xiang (Hunnanese) Chinese', 'Chechen',\n",
       "       'Wu (Shanghainese) Chinese', 'Wolof', 'Quechua', 'Irish', 'Divehi',\n",
       "       'Welsh', 'Acehnese', 'Sylheti', 'Eastern Min', 'Sundanese'],\n",
       "      dtype=object)"
      ]
     },
     "execution_count": 16,
     "metadata": {},
     "output_type": "execute_result"
    }
   ],
   "source": [
    "unique_languages = pd.unique(languages)\n",
    "unique_languages"
   ]
  },
  {
   "cell_type": "code",
   "execution_count": 19,
   "id": "06014a8a-b98b-49f5-8f8c-7e5a3576adac",
   "metadata": {},
   "outputs": [
    {
     "data": {
      "text/html": [
       "<div>\n",
       "<style scoped>\n",
       "    .dataframe tbody tr th:only-of-type {\n",
       "        vertical-align: middle;\n",
       "    }\n",
       "\n",
       "    .dataframe tbody tr th {\n",
       "        vertical-align: top;\n",
       "    }\n",
       "\n",
       "    .dataframe thead th {\n",
       "        text-align: right;\n",
       "    }\n",
       "</style>\n",
       "<table border=\"1\" class=\"dataframe\">\n",
       "  <thead>\n",
       "    <tr style=\"text-align: right;\">\n",
       "      <th></th>\n",
       "      <th>CountryOfResidence</th>\n",
       "      <th>LanguageAtHome</th>\n",
       "    </tr>\n",
       "  </thead>\n",
       "  <tbody>\n",
       "    <tr>\n",
       "      <th>0</th>\n",
       "      <td>United States of America</td>\n",
       "      <td>English</td>\n",
       "    </tr>\n",
       "    <tr>\n",
       "      <th>1</th>\n",
       "      <td>United States of America</td>\n",
       "      <td>English</td>\n",
       "    </tr>\n",
       "    <tr>\n",
       "      <th>2</th>\n",
       "      <td>United States of America</td>\n",
       "      <td>English</td>\n",
       "    </tr>\n",
       "    <tr>\n",
       "      <th>3</th>\n",
       "      <td>United States of America</td>\n",
       "      <td>English</td>\n",
       "    </tr>\n",
       "    <tr>\n",
       "      <th>4</th>\n",
       "      <td>United States of America</td>\n",
       "      <td>Khmer</td>\n",
       "    </tr>\n",
       "    <tr>\n",
       "      <th>...</th>\n",
       "      <td>...</td>\n",
       "      <td>...</td>\n",
       "    </tr>\n",
       "    <tr>\n",
       "      <th>15615</th>\n",
       "      <td>United States of America</td>\n",
       "      <td>English</td>\n",
       "    </tr>\n",
       "    <tr>\n",
       "      <th>15616</th>\n",
       "      <td>Canada</td>\n",
       "      <td>English</td>\n",
       "    </tr>\n",
       "    <tr>\n",
       "      <th>15617</th>\n",
       "      <td>United States of America</td>\n",
       "      <td>English</td>\n",
       "    </tr>\n",
       "    <tr>\n",
       "      <th>15618</th>\n",
       "      <td>Canada</td>\n",
       "      <td>English</td>\n",
       "    </tr>\n",
       "    <tr>\n",
       "      <th>15619</th>\n",
       "      <td>South Africa</td>\n",
       "      <td>English</td>\n",
       "    </tr>\n",
       "  </tbody>\n",
       "</table>\n",
       "<p>15620 rows × 2 columns</p>\n",
       "</div>"
      ],
      "text/plain": [
       "             CountryOfResidence LanguageAtHome\n",
       "0      United States of America        English\n",
       "1      United States of America        English\n",
       "2      United States of America        English\n",
       "3      United States of America        English\n",
       "4      United States of America          Khmer\n",
       "...                         ...            ...\n",
       "15615  United States of America        English\n",
       "15616                    Canada        English\n",
       "15617  United States of America        English\n",
       "15618                    Canada        English\n",
       "15619              South Africa        English\n",
       "\n",
       "[15620 rows x 2 columns]"
      ]
     },
     "execution_count": 19,
     "metadata": {},
     "output_type": "execute_result"
    }
   ],
   "source": [
    "# examine country of origin and language at home\n",
    "country_columns = df[['CountryOfResidence', 'LanguageAtHome']]\n",
    "country_columns"
   ]
  },
  {
   "cell_type": "code",
   "execution_count": 21,
   "id": "6cb50ab3-3b1c-4b90-9c3a-908ef0742fea",
   "metadata": {},
   "outputs": [
    {
     "data": {
      "text/plain": [
       "0    28.0\n",
       "1    22.0\n",
       "2    19.0\n",
       "3    26.0\n",
       "4    20.0\n",
       "Name: Age, dtype: float64"
      ]
     },
     "execution_count": 21,
     "metadata": {},
     "output_type": "execute_result"
    }
   ],
   "source": [
    "age = df['Age']\n",
    "age.head()"
   ]
  },
  {
   "cell_type": "code",
   "execution_count": 22,
   "id": "a6ffb55a-2e79-43e7-b4e0-82a802aa4135",
   "metadata": {},
   "outputs": [
    {
     "name": "stdout",
     "output_type": "stream",
     "text": [
      "<class 'pandas.core.series.Series'>\n",
      "RangeIndex: 15620 entries, 0 to 15619\n",
      "Series name: Age\n",
      "Non-Null Count  Dtype  \n",
      "--------------  -----  \n",
      "13613 non-null  float64\n",
      "dtypes: float64(1)\n",
      "memory usage: 122.2 KB\n"
     ]
    }
   ],
   "source": [
    "age.info()"
   ]
  },
  {
   "cell_type": "code",
   "execution_count": 23,
   "id": "69ceb687-6648-48b5-935f-7bd8dbb096f7",
   "metadata": {},
   "outputs": [
    {
     "data": {
      "text/plain": [
       "count    13613.000000\n",
       "mean        29.175421\n",
       "std          9.017716\n",
       "min         10.000000\n",
       "25%         23.000000\n",
       "50%         27.000000\n",
       "75%         33.000000\n",
       "max         86.000000\n",
       "Name: Age, dtype: float64"
      ]
     },
     "execution_count": 23,
     "metadata": {},
     "output_type": "execute_result"
    }
   ],
   "source": [
    "age.describe()"
   ]
  },
  {
   "cell_type": "code",
   "execution_count": 25,
   "id": "7f01a8f3-5d01-4fcc-9518-a962391b5e8f",
   "metadata": {},
   "outputs": [
    {
     "data": {
      "text/plain": [
       "<Axes: >"
      ]
     },
     "execution_count": 25,
     "metadata": {},
     "output_type": "execute_result"
    },
    {
     "data": {
      "image/png": "[encoded data removed]",
      "text/plain": [
       "<Figure size 640x480 with 1 Axes>"
      ]
     },
     "metadata": {},
     "output_type": "display_data"
    }
   ],
   "source": [
    "age.hist(bins=20, color='skyblue', edgecolor='black', alpha=0.7, grid=False)"
   ]
  },
  {
   "cell_type": "code",
   "execution_count": 27,
   "id": "b5f8e8b5-c7b7-4a08-98fe-48084df5b8dc",
   "metadata": {},
   "outputs": [
    {
     "data": {
      "text/html": [
       "<div>\n",
       "<style scoped>\n",
       "    .dataframe tbody tr th:only-of-type {\n",
       "        vertical-align: middle;\n",
       "    }\n",
       "\n",
       "    .dataframe tbody tr th {\n",
       "        vertical-align: top;\n",
       "    }\n",
       "\n",
       "    .dataframe thead th {\n",
       "        text-align: right;\n",
       "    }\n",
       "</style>\n",
       "<table border=\"1\" class=\"dataframe\">\n",
       "  <thead>\n",
       "    <tr style=\"text-align: right;\">\n",
       "      <th></th>\n",
       "      <th>HoursSpentLearningToCode</th>\n",
       "      <th>MoneySpentLearningToCode</th>\n",
       "    </tr>\n",
       "  </thead>\n",
       "  <tbody>\n",
       "    <tr>\n",
       "      <th>0</th>\n",
       "      <td>30.0</td>\n",
       "      <td>0.0</td>\n",
       "    </tr>\n",
       "    <tr>\n",
       "      <th>1</th>\n",
       "      <td>30.0</td>\n",
       "      <td>20.0</td>\n",
       "    </tr>\n",
       "    <tr>\n",
       "      <th>2</th>\n",
       "      <td>20.0</td>\n",
       "      <td>50.0</td>\n",
       "    </tr>\n",
       "    <tr>\n",
       "      <th>3</th>\n",
       "      <td>20.0</td>\n",
       "      <td>100.0</td>\n",
       "    </tr>\n",
       "    <tr>\n",
       "      <th>4</th>\n",
       "      <td>25.0</td>\n",
       "      <td>1300.0</td>\n",
       "    </tr>\n",
       "  </tbody>\n",
       "</table>\n",
       "</div>"
      ],
      "text/plain": [
       "   HoursSpentLearningToCode  MoneySpentLearningToCode\n",
       "0                      30.0                       0.0\n",
       "1                      30.0                      20.0\n",
       "2                      20.0                      50.0\n",
       "3                      20.0                     100.0\n",
       "4                      25.0                    1300.0"
      ]
     },
     "execution_count": 27,
     "metadata": {},
     "output_type": "execute_result"
    }
   ],
   "source": [
    "hours_money = ['HoursSpentLearningToCode', 'MoneySpentLearningToCode']\n",
    "df[hours].head()"
   ]
  },
  {
   "cell_type": "code",
   "execution_count": 32,
   "id": "7557a32d-d47d-489d-b78c-313888362582",
   "metadata": {},
   "outputs": [
    {
     "data": {
      "text/plain": [
       "<Axes: >"
      ]
     },
     "execution_count": 32,
     "metadata": {},
     "output_type": "execute_result"
    },
    {
     "data": {
      "image/png": "[encoded data removed]",
      "text/plain": [
       "<Figure size 640x480 with 1 Axes>"
      ]
     },
     "metadata": {},
     "output_type": "display_data"
    }
   ],
   "source": [
    "df['HoursSpentLearningToCode'].hist(bins=20, color='skyblue', edgecolor='black', alpha=0.7, grid=False)"
   ]
  },
  {
   "cell_type": "code",
   "execution_count": 34,
   "id": "3ed760a8-3a12-4b00-bccd-1733e28ec34d",
   "metadata": {},
   "outputs": [
    {
     "data": {
      "text/plain": [
       "count    14942.000000\n",
       "mean        15.323317\n",
       "std         14.274867\n",
       "min          0.000000\n",
       "25%          5.000000\n",
       "50%         10.000000\n",
       "75%         20.000000\n",
       "max        100.000000\n",
       "Name: HoursSpentLearningToCode, dtype: float64"
      ]
     },
     "execution_count": 34,
     "metadata": {},
     "output_type": "execute_result"
    }
   ],
   "source": [
    "df['HoursSpentLearningToCode'].describe()"
   ]
  },
  {
   "cell_type": "code",
   "execution_count": 35,
   "id": "99737a66-e55b-4e53-a0f3-0dfb6d716845",
   "metadata": {},
   "outputs": [
    {
     "data": {
      "text/plain": [
       "np.float64(228961.0)"
      ]
     },
     "execution_count": 35,
     "metadata": {},
     "output_type": "execute_result"
    }
   ],
   "source": [
    "df['HoursSpentLearningToCode'].sum()"
   ]
  },
  {
   "cell_type": "code",
   "execution_count": 37,
   "id": "bec3d445-d9eb-45a5-8754-8b9112ca497e",
   "metadata": {},
   "outputs": [
    {
     "data": {
      "text/plain": [
       "<Axes: >"
      ]
     },
     "execution_count": 37,
     "metadata": {},
     "output_type": "execute_result"
    },
    {
     "data": {
      "image/png": "[encoded data removed]",
      "text/plain": [
       "<Figure size 640x480 with 1 Axes>"
      ]
     },
     "metadata": {},
     "output_type": "display_data"
    }
   ],
   "source": [
    "money = df['MoneySpentLearningToCode']\n",
    "money.hist(bins=40, color='green', edgecolor='black', alpha=0.7, grid=False)"
   ]
  },
  {
   "cell_type": "code",
   "execution_count": 38,
   "id": "c4f02ec6-20d8-4ecc-912e-70990f8c6ad8",
   "metadata": {},
   "outputs": [
    {
     "data": {
      "text/plain": [
       "np.float64(16264487.0)"
      ]
     },
     "execution_count": 38,
     "metadata": {},
     "output_type": "execute_result"
    }
   ],
   "source": [
    "money.sum()"
   ]
  },
  {
   "cell_type": "code",
   "execution_count": null,
   "id": "9df06550-3529-4422-ae8a-693e65b4ffeb",
   "metadata": {},
   "outputs": [],
   "source": []
  }
 ],
 "metadata": {
  "kernelspec": {
   "display_name": "Python 3 (ipykernel)",
   "language": "python",
   "name": "python3"
  },
  "language_info": {
   "codemirror_mode": {
    "name": "ipython",
    "version": 3
   },
   "file_extension": ".py",
   "mimetype": "text/x-python",
   "name": "python",
   "nbconvert_exporter": "python",
   "pygments_lexer": "ipython3",
   "version": "3.11.6"
  }
 },
 "nbformat": 4,
 "nbformat_minor": 5
}
