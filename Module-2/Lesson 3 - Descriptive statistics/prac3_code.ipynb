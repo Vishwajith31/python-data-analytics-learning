{
 "cells": [
  {
   "cell_type": "code",
   "execution_count": 1,
   "id": "6957893f-94af-40a7-b5e5-dd8c19942245",
   "metadata": {},
   "outputs": [
    {
     "data": {
      "text/html": [
       "<div>\n",
       "<style scoped>\n",
       "    .dataframe tbody tr th:only-of-type {\n",
       "        vertical-align: middle;\n",
       "    }\n",
       "\n",
       "    .dataframe tbody tr th {\n",
       "        vertical-align: top;\n",
       "    }\n",
       "\n",
       "    .dataframe thead th {\n",
       "        text-align: right;\n",
       "    }\n",
       "</style>\n",
       "<table border=\"1\" class=\"dataframe\">\n",
       "  <thead>\n",
       "    <tr style=\"text-align: right;\">\n",
       "      <th></th>\n",
       "      <th>Age</th>\n",
       "      <th>Gender</th>\n",
       "      <th>NumberOfChildren</th>\n",
       "      <th>CountryOfResidence</th>\n",
       "      <th>LanguageAtHome</th>\n",
       "      <th>HoursSpentLearningToCode</th>\n",
       "      <th>Income</th>\n",
       "      <th>StudentDebtOwe</th>\n",
       "      <th>IsSoftwareDev</th>\n",
       "      <th>MaritalStatus</th>\n",
       "      <th>MoneySpentLearningToCode</th>\n",
       "      <th>MonthsSpentProgramming</th>\n",
       "      <th>YearsSpentLearningToCode</th>\n",
       "      <th>LearningViaBooks</th>\n",
       "      <th>LearningViaCoursera</th>\n",
       "    </tr>\n",
       "  </thead>\n",
       "  <tbody>\n",
       "    <tr>\n",
       "      <th>0</th>\n",
       "      <td>28.0</td>\n",
       "      <td>male</td>\n",
       "      <td>NaN</td>\n",
       "      <td>United States of America</td>\n",
       "      <td>English</td>\n",
       "      <td>30.0</td>\n",
       "      <td>32000.0</td>\n",
       "      <td>20000.0</td>\n",
       "      <td>False</td>\n",
       "      <td>married or domestic partnership</td>\n",
       "      <td>0.0</td>\n",
       "      <td>1.0</td>\n",
       "      <td>0.08333333333</td>\n",
       "      <td>NaN</td>\n",
       "      <td>1.0</td>\n",
       "    </tr>\n",
       "    <tr>\n",
       "      <th>1</th>\n",
       "      <td>22.0</td>\n",
       "      <td>male</td>\n",
       "      <td>NaN</td>\n",
       "      <td>United States of America</td>\n",
       "      <td>English</td>\n",
       "      <td>30.0</td>\n",
       "      <td>15000.0</td>\n",
       "      <td>NaN</td>\n",
       "      <td>False</td>\n",
       "      <td>NaN</td>\n",
       "      <td>20.0</td>\n",
       "      <td>2.0</td>\n",
       "      <td>0.1666666667</td>\n",
       "      <td>NaN</td>\n",
       "      <td>1.0</td>\n",
       "    </tr>\n",
       "    <tr>\n",
       "      <th>2</th>\n",
       "      <td>19.0</td>\n",
       "      <td>male</td>\n",
       "      <td>NaN</td>\n",
       "      <td>United States of America</td>\n",
       "      <td>English</td>\n",
       "      <td>20.0</td>\n",
       "      <td>48000.0</td>\n",
       "      <td>NaN</td>\n",
       "      <td>False</td>\n",
       "      <td>NaN</td>\n",
       "      <td>50.0</td>\n",
       "      <td>24.0</td>\n",
       "      <td>2</td>\n",
       "      <td>NaN</td>\n",
       "      <td>NaN</td>\n",
       "    </tr>\n",
       "    <tr>\n",
       "      <th>3</th>\n",
       "      <td>26.0</td>\n",
       "      <td>female</td>\n",
       "      <td>NaN</td>\n",
       "      <td>United States of America</td>\n",
       "      <td>English</td>\n",
       "      <td>20.0</td>\n",
       "      <td>43000.0</td>\n",
       "      <td>7000.0</td>\n",
       "      <td>False</td>\n",
       "      <td>NaN</td>\n",
       "      <td>100.0</td>\n",
       "      <td>3.0</td>\n",
       "      <td>0.25</td>\n",
       "      <td>NaN</td>\n",
       "      <td>NaN</td>\n",
       "    </tr>\n",
       "    <tr>\n",
       "      <th>4</th>\n",
       "      <td>20.0</td>\n",
       "      <td>female</td>\n",
       "      <td>NaN</td>\n",
       "      <td>United States of America</td>\n",
       "      <td>Khmer</td>\n",
       "      <td>25.0</td>\n",
       "      <td>6000.0</td>\n",
       "      <td>NaN</td>\n",
       "      <td>False</td>\n",
       "      <td>NaN</td>\n",
       "      <td>1300.0</td>\n",
       "      <td>48.0</td>\n",
       "      <td>4</td>\n",
       "      <td>NaN</td>\n",
       "      <td>NaN</td>\n",
       "    </tr>\n",
       "  </tbody>\n",
       "</table>\n",
       "</div>"
      ],
      "text/plain": [
       "    Age  Gender  NumberOfChildren        CountryOfResidence LanguageAtHome  \\\n",
       "0  28.0    male               NaN  United States of America        English   \n",
       "1  22.0    male               NaN  United States of America        English   \n",
       "2  19.0    male               NaN  United States of America        English   \n",
       "3  26.0  female               NaN  United States of America        English   \n",
       "4  20.0  female               NaN  United States of America          Khmer   \n",
       "\n",
       "   HoursSpentLearningToCode   Income  StudentDebtOwe  IsSoftwareDev  \\\n",
       "0                      30.0  32000.0         20000.0          False   \n",
       "1                      30.0  15000.0             NaN          False   \n",
       "2                      20.0  48000.0             NaN          False   \n",
       "3                      20.0  43000.0          7000.0          False   \n",
       "4                      25.0   6000.0             NaN          False   \n",
       "\n",
       "                     MaritalStatus  MoneySpentLearningToCode  \\\n",
       "0  married or domestic partnership                       0.0   \n",
       "1                              NaN                      20.0   \n",
       "2                              NaN                      50.0   \n",
       "3                              NaN                     100.0   \n",
       "4                              NaN                    1300.0   \n",
       "\n",
       "   MonthsSpentProgramming YearsSpentLearningToCode  LearningViaBooks  \\\n",
       "0                     1.0            0.08333333333               NaN   \n",
       "1                     2.0             0.1666666667               NaN   \n",
       "2                    24.0                        2               NaN   \n",
       "3                     3.0                     0.25               NaN   \n",
       "4                    48.0                        4               NaN   \n",
       "\n",
       "   LearningViaCoursera  \n",
       "0                  1.0  \n",
       "1                  1.0  \n",
       "2                  NaN  \n",
       "3                  NaN  \n",
       "4                  NaN  "
      ]
     },
     "execution_count": 1,
     "metadata": {},
     "output_type": "execute_result"
    }
   ],
   "source": [
    "import pandas as pd\n",
    "df = pd.read_csv('survey_data.csv')\n",
    "df.head()"
   ]
  },
  {
   "cell_type": "code",
   "execution_count": 2,
   "id": "5af657d2-e1ca-45f5-aad6-d901a5deea45",
   "metadata": {},
   "outputs": [
    {
     "data": {
      "text/html": [
       "<div>\n",
       "<style scoped>\n",
       "    .dataframe tbody tr th:only-of-type {\n",
       "        vertical-align: middle;\n",
       "    }\n",
       "\n",
       "    .dataframe tbody tr th {\n",
       "        vertical-align: top;\n",
       "    }\n",
       "\n",
       "    .dataframe thead th {\n",
       "        text-align: right;\n",
       "    }\n",
       "</style>\n",
       "<table border=\"1\" class=\"dataframe\">\n",
       "  <thead>\n",
       "    <tr style=\"text-align: right;\">\n",
       "      <th></th>\n",
       "      <th>Age</th>\n",
       "      <th>NumberOfChildren</th>\n",
       "      <th>HoursSpentLearningToCode</th>\n",
       "      <th>Income</th>\n",
       "      <th>StudentDebtOwe</th>\n",
       "      <th>MoneySpentLearningToCode</th>\n",
       "      <th>MonthsSpentProgramming</th>\n",
       "      <th>LearningViaBooks</th>\n",
       "      <th>LearningViaCoursera</th>\n",
       "    </tr>\n",
       "  </thead>\n",
       "  <tbody>\n",
       "    <tr>\n",
       "      <th>count</th>\n",
       "      <td>13613.000000</td>\n",
       "      <td>2549.000000</td>\n",
       "      <td>14942.000000</td>\n",
       "      <td>7329.000000</td>\n",
       "      <td>3438.000000</td>\n",
       "      <td>14679.000000</td>\n",
       "      <td>15014.000000</td>\n",
       "      <td>144.0</td>\n",
       "      <td>4844.0</td>\n",
       "    </tr>\n",
       "    <tr>\n",
       "      <th>mean</th>\n",
       "      <td>29.175421</td>\n",
       "      <td>1.899961</td>\n",
       "      <td>15.323317</td>\n",
       "      <td>44930.010506</td>\n",
       "      <td>33489.955207</td>\n",
       "      <td>1108.010559</td>\n",
       "      <td>24.430198</td>\n",
       "      <td>1.0</td>\n",
       "      <td>1.0</td>\n",
       "    </tr>\n",
       "    <tr>\n",
       "      <th>std</th>\n",
       "      <td>9.017716</td>\n",
       "      <td>1.113900</td>\n",
       "      <td>14.274867</td>\n",
       "      <td>35582.783216</td>\n",
       "      <td>38173.579783</td>\n",
       "      <td>4860.825612</td>\n",
       "      <td>49.426744</td>\n",
       "      <td>0.0</td>\n",
       "      <td>0.0</td>\n",
       "    </tr>\n",
       "    <tr>\n",
       "      <th>min</th>\n",
       "      <td>10.000000</td>\n",
       "      <td>1.000000</td>\n",
       "      <td>0.000000</td>\n",
       "      <td>6000.000000</td>\n",
       "      <td>1000.000000</td>\n",
       "      <td>0.000000</td>\n",
       "      <td>0.000000</td>\n",
       "      <td>1.0</td>\n",
       "      <td>1.0</td>\n",
       "    </tr>\n",
       "    <tr>\n",
       "      <th>25%</th>\n",
       "      <td>23.000000</td>\n",
       "      <td>1.000000</td>\n",
       "      <td>5.000000</td>\n",
       "      <td>20000.000000</td>\n",
       "      <td>10000.000000</td>\n",
       "      <td>0.000000</td>\n",
       "      <td>3.000000</td>\n",
       "      <td>1.0</td>\n",
       "      <td>1.0</td>\n",
       "    </tr>\n",
       "    <tr>\n",
       "      <th>50%</th>\n",
       "      <td>27.000000</td>\n",
       "      <td>2.000000</td>\n",
       "      <td>10.000000</td>\n",
       "      <td>37000.000000</td>\n",
       "      <td>22000.000000</td>\n",
       "      <td>30.000000</td>\n",
       "      <td>9.000000</td>\n",
       "      <td>1.0</td>\n",
       "      <td>1.0</td>\n",
       "    </tr>\n",
       "    <tr>\n",
       "      <th>75%</th>\n",
       "      <td>33.000000</td>\n",
       "      <td>2.000000</td>\n",
       "      <td>20.000000</td>\n",
       "      <td>60000.000000</td>\n",
       "      <td>40000.000000</td>\n",
       "      <td>300.000000</td>\n",
       "      <td>24.000000</td>\n",
       "      <td>1.0</td>\n",
       "      <td>1.0</td>\n",
       "    </tr>\n",
       "    <tr>\n",
       "      <th>max</th>\n",
       "      <td>86.000000</td>\n",
       "      <td>18.000000</td>\n",
       "      <td>100.000000</td>\n",
       "      <td>200000.000000</td>\n",
       "      <td>500000.000000</td>\n",
       "      <td>180000.000000</td>\n",
       "      <td>720.000000</td>\n",
       "      <td>1.0</td>\n",
       "      <td>1.0</td>\n",
       "    </tr>\n",
       "  </tbody>\n",
       "</table>\n",
       "</div>"
      ],
      "text/plain": [
       "                Age  NumberOfChildren  HoursSpentLearningToCode  \\\n",
       "count  13613.000000       2549.000000              14942.000000   \n",
       "mean      29.175421          1.899961                 15.323317   \n",
       "std        9.017716          1.113900                 14.274867   \n",
       "min       10.000000          1.000000                  0.000000   \n",
       "25%       23.000000          1.000000                  5.000000   \n",
       "50%       27.000000          2.000000                 10.000000   \n",
       "75%       33.000000          2.000000                 20.000000   \n",
       "max       86.000000         18.000000                100.000000   \n",
       "\n",
       "              Income  StudentDebtOwe  MoneySpentLearningToCode  \\\n",
       "count    7329.000000     3438.000000              14679.000000   \n",
       "mean    44930.010506    33489.955207               1108.010559   \n",
       "std     35582.783216    38173.579783               4860.825612   \n",
       "min      6000.000000     1000.000000                  0.000000   \n",
       "25%     20000.000000    10000.000000                  0.000000   \n",
       "50%     37000.000000    22000.000000                 30.000000   \n",
       "75%     60000.000000    40000.000000                300.000000   \n",
       "max    200000.000000   500000.000000             180000.000000   \n",
       "\n",
       "       MonthsSpentProgramming  LearningViaBooks  LearningViaCoursera  \n",
       "count            15014.000000             144.0               4844.0  \n",
       "mean                24.430198               1.0                  1.0  \n",
       "std                 49.426744               0.0                  0.0  \n",
       "min                  0.000000               1.0                  1.0  \n",
       "25%                  3.000000               1.0                  1.0  \n",
       "50%                  9.000000               1.0                  1.0  \n",
       "75%                 24.000000               1.0                  1.0  \n",
       "max                720.000000               1.0                  1.0  "
      ]
     },
     "execution_count": 2,
     "metadata": {},
     "output_type": "execute_result"
    }
   ],
   "source": [
    "df.describe()"
   ]
  },
  {
   "cell_type": "code",
   "execution_count": 3,
   "id": "6b790f6a-14d1-4f78-ac5f-1ac411c0c3f5",
   "metadata": {},
   "outputs": [
    {
     "data": {
      "text/plain": [
       "count    14942.000000\n",
       "mean        15.323317\n",
       "std         14.274867\n",
       "min          0.000000\n",
       "25%          5.000000\n",
       "50%         10.000000\n",
       "75%         20.000000\n",
       "max        100.000000\n",
       "Name: HoursSpentLearningToCode, dtype: float64"
      ]
     },
     "execution_count": 3,
     "metadata": {},
     "output_type": "execute_result"
    }
   ],
   "source": [
    "hours = df['HoursSpentLearningToCode']\n",
    "hours.describe()"
   ]
  },
  {
   "cell_type": "code",
   "execution_count": 4,
   "id": "6923fedb-eeec-4084-87eb-c083a34d92a3",
   "metadata": {},
   "outputs": [
    {
     "data": {
      "text/plain": [
       "np.float64(10.0)"
      ]
     },
     "execution_count": 4,
     "metadata": {},
     "output_type": "execute_result"
    }
   ],
   "source": [
    "hours.median()"
   ]
  },
  {
   "cell_type": "code",
   "execution_count": 5,
   "id": "d47b6f52-4663-4437-bc8e-ff4bca66ede2",
   "metadata": {},
   "outputs": [
    {
     "name": "stdout",
     "output_type": "stream",
     "text": [
      "<class 'pandas.core.frame.DataFrame'>\n",
      "RangeIndex: 15620 entries, 0 to 15619\n",
      "Data columns (total 15 columns):\n",
      " #   Column                    Non-Null Count  Dtype  \n",
      "---  ------                    --------------  -----  \n",
      " 0   Age                       13613 non-null  float64\n",
      " 1   Gender                    13746 non-null  object \n",
      " 2   NumberOfChildren          2549 non-null   float64\n",
      " 3   CountryOfResidence        13610 non-null  object \n",
      " 4   LanguageAtHome            13582 non-null  object \n",
      " 5   HoursSpentLearningToCode  14942 non-null  float64\n",
      " 6   Income                    7329 non-null   float64\n",
      " 7   StudentDebtOwe            3438 non-null   float64\n",
      " 8   IsSoftwareDev             15620 non-null  bool   \n",
      " 9   MaritalStatus             4010 non-null   object \n",
      " 10  MoneySpentLearningToCode  14679 non-null  float64\n",
      " 11  MonthsSpentProgramming    15014 non-null  float64\n",
      " 12  YearsSpentLearningToCode  15620 non-null  object \n",
      " 13  LearningViaBooks          144 non-null    float64\n",
      " 14  LearningViaCoursera       4844 non-null   float64\n",
      "dtypes: bool(1), float64(9), object(5)\n",
      "memory usage: 1.7+ MB\n"
     ]
    }
   ],
   "source": [
    "df.info()"
   ]
  },
  {
   "cell_type": "code",
   "execution_count": 6,
   "id": "4377edea-38e2-409f-9de6-ec21e229a2ca",
   "metadata": {},
   "outputs": [
    {
     "data": {
      "text/plain": [
       "Gender\n",
       "male           10766\n",
       "female          2840\n",
       "genderqueer       66\n",
       "agender           38\n",
       "trans             36\n",
       "Name: count, dtype: int64"
      ]
     },
     "execution_count": 6,
     "metadata": {},
     "output_type": "execute_result"
    }
   ],
   "source": [
    "counts_of_gender = df['Gender'].value_counts()\n",
    "counts_of_gender"
   ]
  },
  {
   "cell_type": "code",
   "execution_count": 7,
   "id": "b380c4aa-6754-4d49-be87-e6ac458556e5",
   "metadata": {},
   "outputs": [
    {
     "data": {
      "text/plain": [
       "pandas.core.series.Series"
      ]
     },
     "execution_count": 7,
     "metadata": {},
     "output_type": "execute_result"
    }
   ],
   "source": [
    "type(counts_of_gender)"
   ]
  },
  {
   "cell_type": "code",
   "execution_count": 8,
   "id": "7a8b2ecb-bd00-4a35-a731-7db343b79fc9",
   "metadata": {},
   "outputs": [
    {
     "data": {
      "text/plain": [
       "Gender\n",
       "male           10766\n",
       "female          2840\n",
       "genderqueer       66\n",
       "agender           38\n",
       "trans             36\n",
       "Name: count, dtype: int64"
      ]
     },
     "execution_count": 8,
     "metadata": {},
     "output_type": "execute_result"
    }
   ],
   "source": [
    "counts_of_gender.head()"
   ]
  },
  {
   "cell_type": "code",
   "execution_count": 9,
   "id": "3cf4c9cd-7698-41f3-99e7-ba5a11973bd2",
   "metadata": {},
   "outputs": [
    {
     "data": {
      "text/plain": [
       "np.int64(10766)"
      ]
     },
     "execution_count": 9,
     "metadata": {},
     "output_type": "execute_result"
    }
   ],
   "source": [
    "counts_of_gender['male']"
   ]
  },
  {
   "cell_type": "code",
   "execution_count": 10,
   "id": "b1f37fec-d6cb-47bc-93b3-4a453c90635a",
   "metadata": {},
   "outputs": [
    {
     "data": {
      "text/plain": [
       "<Axes: title={'center': 'Counts of Gender'}, xlabel='Gender', ylabel='Count'>"
      ]
     },
     "execution_count": 10,
     "metadata": {},
     "output_type": "execute_result"
    },
    {
     "data": {
      "image/png": "[encoded data removed]",
      "text/plain": [
       "<Figure size 1400x600 with 1 Axes>"
      ]
     },
     "metadata": {},
     "output_type": "display_data"
    }
   ],
   "source": [
    "counts_of_gender.plot(kind='bar', color='skyblue', figsize=(14,6), title='Counts of Gender', xlabel='Gender', ylabel='Count')"
   ]
  },
  {
   "cell_type": "code",
   "execution_count": 11,
   "id": "58913001-a7e5-4d48-9eff-7451d5e85085",
   "metadata": {},
   "outputs": [
    {
     "data": {
      "text/plain": [
       "LanguageAtHome\n",
       "English        7419\n",
       "Spanish         771\n",
       "Russian         547\n",
       "Hindi           453\n",
       "Portuguese      394\n",
       "               ... \n",
       "Welsh             1\n",
       "Acehnese          1\n",
       "Sylheti           1\n",
       "Eastern Min       1\n",
       "Sundanese         1\n",
       "Name: count, Length: 148, dtype: int64"
      ]
     },
     "execution_count": 11,
     "metadata": {},
     "output_type": "execute_result"
    }
   ],
   "source": [
    "# top 5 languages spoken at home\n",
    "languages_count = df['LanguageAtHome']\n",
    "languages_count.value_counts()"
   ]
  },
  {
   "cell_type": "code",
   "execution_count": 12,
   "id": "3dae7266-06de-44fe-af7a-a9252fa3634f",
   "metadata": {},
   "outputs": [
    {
     "data": {
      "text/plain": [
       "15620"
      ]
     },
     "execution_count": 12,
     "metadata": {},
     "output_type": "execute_result"
    }
   ],
   "source": [
    "len(languages_count)"
   ]
  },
  {
   "cell_type": "code",
   "execution_count": 13,
   "id": "6c58de2f-5d14-45ed-98ea-38d8602260ad",
   "metadata": {},
   "outputs": [
    {
     "data": {
      "text/plain": [
       "<Axes: title={'center': 'Top 5 Languages spoken at home'}, xlabel='Languages', ylabel='Count'>"
      ]
     },
     "execution_count": 13,
     "metadata": {},
     "output_type": "execute_result"
    },
    {
     "data": {
      "image/png": "[encoded data removed]",
      "text/plain": [
       "<Figure size 1400x600 with 1 Axes>"
      ]
     },
     "metadata": {},
     "output_type": "display_data"
    }
   ],
   "source": [
    "df['LanguageAtHome'].value_counts().head().plot(kind='bar',color='skyblue', figsize=(14,6), title='Top 5 Languages spoken at home', xlabel='Languages', ylabel='Count', edgecolor='black')"
   ]
  },
  {
   "cell_type": "code",
   "execution_count": 14,
   "id": "316e6e06-5ef9-41fb-8ae8-61223b5d925c",
   "metadata": {},
   "outputs": [
    {
     "data": {
      "text/plain": [
       "Age                         float64\n",
       "Gender                       object\n",
       "NumberOfChildren            float64\n",
       "CountryOfResidence           object\n",
       "LanguageAtHome               object\n",
       "HoursSpentLearningToCode    float64\n",
       "Income                      float64\n",
       "StudentDebtOwe              float64\n",
       "IsSoftwareDev                  bool\n",
       "MaritalStatus                object\n",
       "MoneySpentLearningToCode    float64\n",
       "MonthsSpentProgramming      float64\n",
       "YearsSpentLearningToCode     object\n",
       "LearningViaBooks            float64\n",
       "LearningViaCoursera         float64\n",
       "dtype: object"
      ]
     },
     "execution_count": 14,
     "metadata": {},
     "output_type": "execute_result"
    }
   ],
   "source": [
    "df.dtypes"
   ]
  },
  {
   "cell_type": "code",
   "execution_count": 15,
   "id": "bd90797a-d9af-4538-847e-990205be768e",
   "metadata": {},
   "outputs": [
    {
     "data": {
      "text/plain": [
       "<Axes: xlabel='Income', ylabel='MoneySpentLearningToCode'>"
      ]
     },
     "execution_count": 15,
     "metadata": {},
     "output_type": "execute_result"
    },
    {
     "data": {
      "image/png": "[encoded data removed]",
      "text/plain": [
       "<Figure size 1400x600 with 1 Axes>"
      ]
     },
     "metadata": {},
     "output_type": "display_data"
    }
   ],
   "source": [
    "df.plot(kind='scatter', figsize=(14,6), x='Income', y='MoneySpentLearningToCode')"
   ]
  },
  {
   "cell_type": "code",
   "execution_count": 16,
   "id": "a0f77cfc-fd67-46ed-8b25-4d394dd925bc",
   "metadata": {},
   "outputs": [
    {
     "data": {
      "text/plain": [
       "<Axes: xlabel='Age', ylabel='MonthsSpentProgramming'>"
      ]
     },
     "execution_count": 16,
     "metadata": {},
     "output_type": "execute_result"
    },
    {
     "data": {
      "image/png": "[encoded data removed]",
      "text/plain": [
       "<Figure size 1400x600 with 1 Axes>"
      ]
     },
     "metadata": {},
     "output_type": "display_data"
    }
   ],
   "source": [
    "df.plot(kind='scatter', figsize=(14,6), x='Age', y='MonthsSpentProgramming')"
   ]
  },
  {
   "cell_type": "code",
   "execution_count": 17,
   "id": "6f1696ef-7e9a-47e5-aaf2-6af34a1b4654",
   "metadata": {},
   "outputs": [
    {
     "data": {
      "text/html": [
       "<div>\n",
       "<style scoped>\n",
       "    .dataframe tbody tr th:only-of-type {\n",
       "        vertical-align: middle;\n",
       "    }\n",
       "\n",
       "    .dataframe tbody tr th {\n",
       "        vertical-align: top;\n",
       "    }\n",
       "\n",
       "    .dataframe thead th {\n",
       "        text-align: right;\n",
       "    }\n",
       "</style>\n",
       "<table border=\"1\" class=\"dataframe\">\n",
       "  <thead>\n",
       "    <tr style=\"text-align: right;\">\n",
       "      <th></th>\n",
       "      <th>Age</th>\n",
       "      <th>NumberOfChildren</th>\n",
       "      <th>MoneySpentLearningToCode</th>\n",
       "      <th>MonthsSpentProgramming</th>\n",
       "      <th>Income</th>\n",
       "    </tr>\n",
       "  </thead>\n",
       "  <tbody>\n",
       "    <tr>\n",
       "      <th>Age</th>\n",
       "      <td>1.000000</td>\n",
       "      <td>0.240286</td>\n",
       "      <td>0.098985</td>\n",
       "      <td>0.223237</td>\n",
       "      <td>0.259090</td>\n",
       "    </tr>\n",
       "    <tr>\n",
       "      <th>NumberOfChildren</th>\n",
       "      <td>0.240286</td>\n",
       "      <td>1.000000</td>\n",
       "      <td>-0.009486</td>\n",
       "      <td>0.048951</td>\n",
       "      <td>0.099751</td>\n",
       "    </tr>\n",
       "    <tr>\n",
       "      <th>MoneySpentLearningToCode</th>\n",
       "      <td>0.098985</td>\n",
       "      <td>-0.009486</td>\n",
       "      <td>1.000000</td>\n",
       "      <td>0.086157</td>\n",
       "      <td>0.078810</td>\n",
       "    </tr>\n",
       "    <tr>\n",
       "      <th>MonthsSpentProgramming</th>\n",
       "      <td>0.223237</td>\n",
       "      <td>0.048951</td>\n",
       "      <td>0.086157</td>\n",
       "      <td>1.000000</td>\n",
       "      <td>0.286328</td>\n",
       "    </tr>\n",
       "    <tr>\n",
       "      <th>Income</th>\n",
       "      <td>0.259090</td>\n",
       "      <td>0.099751</td>\n",
       "      <td>0.078810</td>\n",
       "      <td>0.286328</td>\n",
       "      <td>1.000000</td>\n",
       "    </tr>\n",
       "  </tbody>\n",
       "</table>\n",
       "</div>"
      ],
      "text/plain": [
       "                               Age  NumberOfChildren  \\\n",
       "Age                       1.000000          0.240286   \n",
       "NumberOfChildren          0.240286          1.000000   \n",
       "MoneySpentLearningToCode  0.098985         -0.009486   \n",
       "MonthsSpentProgramming    0.223237          0.048951   \n",
       "Income                    0.259090          0.099751   \n",
       "\n",
       "                          MoneySpentLearningToCode  MonthsSpentProgramming  \\\n",
       "Age                                       0.098985                0.223237   \n",
       "NumberOfChildren                         -0.009486                0.048951   \n",
       "MoneySpentLearningToCode                  1.000000                0.086157   \n",
       "MonthsSpentProgramming                    0.086157                1.000000   \n",
       "Income                                    0.078810                0.286328   \n",
       "\n",
       "                            Income  \n",
       "Age                       0.259090  \n",
       "NumberOfChildren          0.099751  \n",
       "MoneySpentLearningToCode  0.078810  \n",
       "MonthsSpentProgramming    0.286328  \n",
       "Income                    1.000000  "
      ]
     },
     "execution_count": 17,
     "metadata": {},
     "output_type": "execute_result"
    }
   ],
   "source": [
    "columns = ['Age', 'NumberOfChildren', 'MoneySpentLearningToCode', 'MonthsSpentProgramming', 'Income']\n",
    "df[columns].corr()"
   ]
  },
  {
   "cell_type": "code",
   "execution_count": 18,
   "id": "40484da2-ef0c-47a7-af3c-8ef719ecde7c",
   "metadata": {},
   "outputs": [
    {
     "data": {
      "text/plain": [
       "Age                         float64\n",
       "Gender                       object\n",
       "NumberOfChildren            float64\n",
       "CountryOfResidence           object\n",
       "LanguageAtHome               object\n",
       "HoursSpentLearningToCode    float64\n",
       "Income                      float64\n",
       "StudentDebtOwe              float64\n",
       "IsSoftwareDev                  bool\n",
       "MaritalStatus                object\n",
       "MoneySpentLearningToCode    float64\n",
       "MonthsSpentProgramming      float64\n",
       "YearsSpentLearningToCode     object\n",
       "LearningViaBooks            float64\n",
       "LearningViaCoursera         float64\n",
       "dtype: object"
      ]
     },
     "execution_count": 18,
     "metadata": {},
     "output_type": "execute_result"
    }
   ],
   "source": [
    "df.dtypes"
   ]
  },
  {
   "cell_type": "code",
   "execution_count": 19,
   "id": "b271c9fb-5c7c-4d88-b6b7-ed1ac58aaa0b",
   "metadata": {},
   "outputs": [
    {
     "data": {
      "text/html": [
       "<div>\n",
       "<style scoped>\n",
       "    .dataframe tbody tr th:only-of-type {\n",
       "        vertical-align: middle;\n",
       "    }\n",
       "\n",
       "    .dataframe tbody tr th {\n",
       "        vertical-align: top;\n",
       "    }\n",
       "\n",
       "    .dataframe thead th {\n",
       "        text-align: right;\n",
       "    }\n",
       "</style>\n",
       "<table border=\"1\" class=\"dataframe\">\n",
       "  <thead>\n",
       "    <tr style=\"text-align: right;\">\n",
       "      <th></th>\n",
       "      <th>Age</th>\n",
       "      <th>Gender</th>\n",
       "      <th>NumberOfChildren</th>\n",
       "      <th>CountryOfResidence</th>\n",
       "      <th>LanguageAtHome</th>\n",
       "      <th>HoursSpentLearningToCode</th>\n",
       "      <th>Income</th>\n",
       "      <th>StudentDebtOwe</th>\n",
       "      <th>IsSoftwareDev</th>\n",
       "      <th>MaritalStatus</th>\n",
       "      <th>MoneySpentLearningToCode</th>\n",
       "      <th>MonthsSpentProgramming</th>\n",
       "      <th>YearsSpentLearningToCode</th>\n",
       "      <th>LearningViaBooks</th>\n",
       "      <th>LearningViaCoursera</th>\n",
       "    </tr>\n",
       "  </thead>\n",
       "  <tbody>\n",
       "    <tr>\n",
       "      <th>0</th>\n",
       "      <td>28.0</td>\n",
       "      <td>male</td>\n",
       "      <td>NaN</td>\n",
       "      <td>United States of America</td>\n",
       "      <td>English</td>\n",
       "      <td>30.0</td>\n",
       "      <td>32000.0</td>\n",
       "      <td>20000.0</td>\n",
       "      <td>False</td>\n",
       "      <td>married or domestic partnership</td>\n",
       "      <td>0.0</td>\n",
       "      <td>1.0</td>\n",
       "      <td>0.08333333333</td>\n",
       "      <td>NaN</td>\n",
       "      <td>1.0</td>\n",
       "    </tr>\n",
       "    <tr>\n",
       "      <th>1</th>\n",
       "      <td>22.0</td>\n",
       "      <td>male</td>\n",
       "      <td>NaN</td>\n",
       "      <td>United States of America</td>\n",
       "      <td>English</td>\n",
       "      <td>30.0</td>\n",
       "      <td>15000.0</td>\n",
       "      <td>NaN</td>\n",
       "      <td>False</td>\n",
       "      <td>NaN</td>\n",
       "      <td>20.0</td>\n",
       "      <td>2.0</td>\n",
       "      <td>0.1666666667</td>\n",
       "      <td>NaN</td>\n",
       "      <td>1.0</td>\n",
       "    </tr>\n",
       "    <tr>\n",
       "      <th>2</th>\n",
       "      <td>19.0</td>\n",
       "      <td>male</td>\n",
       "      <td>NaN</td>\n",
       "      <td>United States of America</td>\n",
       "      <td>English</td>\n",
       "      <td>20.0</td>\n",
       "      <td>48000.0</td>\n",
       "      <td>NaN</td>\n",
       "      <td>False</td>\n",
       "      <td>NaN</td>\n",
       "      <td>50.0</td>\n",
       "      <td>24.0</td>\n",
       "      <td>2</td>\n",
       "      <td>NaN</td>\n",
       "      <td>NaN</td>\n",
       "    </tr>\n",
       "    <tr>\n",
       "      <th>3</th>\n",
       "      <td>26.0</td>\n",
       "      <td>female</td>\n",
       "      <td>NaN</td>\n",
       "      <td>United States of America</td>\n",
       "      <td>English</td>\n",
       "      <td>20.0</td>\n",
       "      <td>43000.0</td>\n",
       "      <td>7000.0</td>\n",
       "      <td>False</td>\n",
       "      <td>NaN</td>\n",
       "      <td>100.0</td>\n",
       "      <td>3.0</td>\n",
       "      <td>0.25</td>\n",
       "      <td>NaN</td>\n",
       "      <td>NaN</td>\n",
       "    </tr>\n",
       "    <tr>\n",
       "      <th>4</th>\n",
       "      <td>20.0</td>\n",
       "      <td>female</td>\n",
       "      <td>NaN</td>\n",
       "      <td>United States of America</td>\n",
       "      <td>Khmer</td>\n",
       "      <td>25.0</td>\n",
       "      <td>6000.0</td>\n",
       "      <td>NaN</td>\n",
       "      <td>False</td>\n",
       "      <td>NaN</td>\n",
       "      <td>1300.0</td>\n",
       "      <td>48.0</td>\n",
       "      <td>4</td>\n",
       "      <td>NaN</td>\n",
       "      <td>NaN</td>\n",
       "    </tr>\n",
       "    <tr>\n",
       "      <th>...</th>\n",
       "      <td>...</td>\n",
       "      <td>...</td>\n",
       "      <td>...</td>\n",
       "      <td>...</td>\n",
       "      <td>...</td>\n",
       "      <td>...</td>\n",
       "      <td>...</td>\n",
       "      <td>...</td>\n",
       "      <td>...</td>\n",
       "      <td>...</td>\n",
       "      <td>...</td>\n",
       "      <td>...</td>\n",
       "      <td>...</td>\n",
       "      <td>...</td>\n",
       "      <td>...</td>\n",
       "    </tr>\n",
       "    <tr>\n",
       "      <th>15615</th>\n",
       "      <td>28.0</td>\n",
       "      <td>male</td>\n",
       "      <td>1.0</td>\n",
       "      <td>United States of America</td>\n",
       "      <td>English</td>\n",
       "      <td>20.0</td>\n",
       "      <td>200000.0</td>\n",
       "      <td>12000.0</td>\n",
       "      <td>False</td>\n",
       "      <td>married or domestic partnership</td>\n",
       "      <td>1400.0</td>\n",
       "      <td>7.0</td>\n",
       "      <td>0.5833333333</td>\n",
       "      <td>NaN</td>\n",
       "      <td>NaN</td>\n",
       "    </tr>\n",
       "    <tr>\n",
       "      <th>15616</th>\n",
       "      <td>43.0</td>\n",
       "      <td>male</td>\n",
       "      <td>3.0</td>\n",
       "      <td>Canada</td>\n",
       "      <td>English</td>\n",
       "      <td>3.0</td>\n",
       "      <td>200000.0</td>\n",
       "      <td>NaN</td>\n",
       "      <td>False</td>\n",
       "      <td>divorced</td>\n",
       "      <td>0.0</td>\n",
       "      <td>8.0</td>\n",
       "      <td>0.6666666667</td>\n",
       "      <td>NaN</td>\n",
       "      <td>NaN</td>\n",
       "    </tr>\n",
       "    <tr>\n",
       "      <th>15617</th>\n",
       "      <td>43.0</td>\n",
       "      <td>male</td>\n",
       "      <td>2.0</td>\n",
       "      <td>United States of America</td>\n",
       "      <td>English</td>\n",
       "      <td>6.0</td>\n",
       "      <td>200000.0</td>\n",
       "      <td>NaN</td>\n",
       "      <td>False</td>\n",
       "      <td>married or domestic partnership</td>\n",
       "      <td>300.0</td>\n",
       "      <td>6.0</td>\n",
       "      <td>0.5</td>\n",
       "      <td>NaN</td>\n",
       "      <td>NaN</td>\n",
       "    </tr>\n",
       "    <tr>\n",
       "      <th>15618</th>\n",
       "      <td>37.0</td>\n",
       "      <td>male</td>\n",
       "      <td>1.0</td>\n",
       "      <td>Canada</td>\n",
       "      <td>English</td>\n",
       "      <td>40.0</td>\n",
       "      <td>200000.0</td>\n",
       "      <td>NaN</td>\n",
       "      <td>False</td>\n",
       "      <td>married or domestic partnership</td>\n",
       "      <td>200.0</td>\n",
       "      <td>360.0</td>\n",
       "      <td>30</td>\n",
       "      <td>NaN</td>\n",
       "      <td>1.0</td>\n",
       "    </tr>\n",
       "    <tr>\n",
       "      <th>15619</th>\n",
       "      <td>30.0</td>\n",
       "      <td>male</td>\n",
       "      <td>2.0</td>\n",
       "      <td>South Africa</td>\n",
       "      <td>English</td>\n",
       "      <td>4.0</td>\n",
       "      <td>200000.0</td>\n",
       "      <td>NaN</td>\n",
       "      <td>False</td>\n",
       "      <td>married or domestic partnership</td>\n",
       "      <td>300.0</td>\n",
       "      <td>6.0</td>\n",
       "      <td>0.5</td>\n",
       "      <td>NaN</td>\n",
       "      <td>NaN</td>\n",
       "    </tr>\n",
       "  </tbody>\n",
       "</table>\n",
       "<p>15620 rows × 15 columns</p>\n",
       "</div>"
      ],
      "text/plain": [
       "        Age  Gender  NumberOfChildren        CountryOfResidence  \\\n",
       "0      28.0    male               NaN  United States of America   \n",
       "1      22.0    male               NaN  United States of America   \n",
       "2      19.0    male               NaN  United States of America   \n",
       "3      26.0  female               NaN  United States of America   \n",
       "4      20.0  female               NaN  United States of America   \n",
       "...     ...     ...               ...                       ...   \n",
       "15615  28.0    male               1.0  United States of America   \n",
       "15616  43.0    male               3.0                    Canada   \n",
       "15617  43.0    male               2.0  United States of America   \n",
       "15618  37.0    male               1.0                    Canada   \n",
       "15619  30.0    male               2.0              South Africa   \n",
       "\n",
       "      LanguageAtHome  HoursSpentLearningToCode    Income  StudentDebtOwe  \\\n",
       "0            English                      30.0   32000.0         20000.0   \n",
       "1            English                      30.0   15000.0             NaN   \n",
       "2            English                      20.0   48000.0             NaN   \n",
       "3            English                      20.0   43000.0          7000.0   \n",
       "4              Khmer                      25.0    6000.0             NaN   \n",
       "...              ...                       ...       ...             ...   \n",
       "15615        English                      20.0  200000.0         12000.0   \n",
       "15616        English                       3.0  200000.0             NaN   \n",
       "15617        English                       6.0  200000.0             NaN   \n",
       "15618        English                      40.0  200000.0             NaN   \n",
       "15619        English                       4.0  200000.0             NaN   \n",
       "\n",
       "       IsSoftwareDev                    MaritalStatus  \\\n",
       "0              False  married or domestic partnership   \n",
       "1              False                              NaN   \n",
       "2              False                              NaN   \n",
       "3              False                              NaN   \n",
       "4              False                              NaN   \n",
       "...              ...                              ...   \n",
       "15615          False  married or domestic partnership   \n",
       "15616          False                         divorced   \n",
       "15617          False  married or domestic partnership   \n",
       "15618          False  married or domestic partnership   \n",
       "15619          False  married or domestic partnership   \n",
       "\n",
       "       MoneySpentLearningToCode  MonthsSpentProgramming  \\\n",
       "0                           0.0                     1.0   \n",
       "1                          20.0                     2.0   \n",
       "2                          50.0                    24.0   \n",
       "3                         100.0                     3.0   \n",
       "4                        1300.0                    48.0   \n",
       "...                         ...                     ...   \n",
       "15615                    1400.0                     7.0   \n",
       "15616                       0.0                     8.0   \n",
       "15617                     300.0                     6.0   \n",
       "15618                     200.0                   360.0   \n",
       "15619                     300.0                     6.0   \n",
       "\n",
       "      YearsSpentLearningToCode  LearningViaBooks  LearningViaCoursera  \n",
       "0                0.08333333333               NaN                  1.0  \n",
       "1                 0.1666666667               NaN                  1.0  \n",
       "2                            2               NaN                  NaN  \n",
       "3                         0.25               NaN                  NaN  \n",
       "4                            4               NaN                  NaN  \n",
       "...                        ...               ...                  ...  \n",
       "15615             0.5833333333               NaN                  NaN  \n",
       "15616             0.6666666667               NaN                  NaN  \n",
       "15617                      0.5               NaN                  NaN  \n",
       "15618                       30               NaN                  1.0  \n",
       "15619                      0.5               NaN                  NaN  \n",
       "\n",
       "[15620 rows x 15 columns]"
      ]
     },
     "execution_count": 19,
     "metadata": {},
     "output_type": "execute_result"
    }
   ],
   "source": [
    "df"
   ]
  },
  {
   "cell_type": "code",
   "execution_count": 20,
   "id": "96edab9b-7808-499a-be83-d27195b74a08",
   "metadata": {},
   "outputs": [],
   "source": [
    "# start with the entire dataframe\n",
    "grouped_by_children = df.groupby('NumberOfChildren')"
   ]
  },
  {
   "cell_type": "code",
   "execution_count": 21,
   "id": "f7118798-32b7-453a-b970-00e69bd6da59",
   "metadata": {},
   "outputs": [
    {
     "data": {
      "text/plain": [
       "pandas.core.groupby.generic.DataFrameGroupBy"
      ]
     },
     "execution_count": 21,
     "metadata": {},
     "output_type": "execute_result"
    }
   ],
   "source": [
    "type(grouped_by_children)"
   ]
  },
  {
   "cell_type": "code",
   "execution_count": 22,
   "id": "9f900d0a-e1b3-4b13-95c9-553b98f7d341",
   "metadata": {},
   "outputs": [
    {
     "data": {
      "text/plain": [
       "<pandas.core.groupby.generic.DataFrameGroupBy object at 0x7bb579e2e4d0>"
      ]
     },
     "execution_count": 22,
     "metadata": {},
     "output_type": "execute_result"
    }
   ],
   "source": [
    "grouped_by_children"
   ]
  },
  {
   "cell_type": "code",
   "execution_count": 23,
   "id": "8d7a127e-bd13-4d28-8443-ddee69b56f6c",
   "metadata": {},
   "outputs": [
    {
     "data": {
      "text/plain": [
       "NumberOfChildren\n",
       "1.0     14.184762\n",
       "2.0     12.392324\n",
       "3.0     14.991228\n",
       "4.0     13.825688\n",
       "5.0     11.405405\n",
       "6.0     11.500000\n",
       "7.0      4.000000\n",
       "8.0     20.000000\n",
       "9.0     21.500000\n",
       "10.0     9.500000\n",
       "12.0     2.000000\n",
       "15.0          NaN\n",
       "18.0     5.000000\n",
       "Name: HoursSpentLearningToCode, dtype: float64"
      ]
     },
     "execution_count": 23,
     "metadata": {},
     "output_type": "execute_result"
    }
   ],
   "source": [
    "grouped_by_children['HoursSpentLearningToCode'].mean()"
   ]
  },
  {
   "cell_type": "code",
   "execution_count": 24,
   "id": "695f3564-8f4e-4663-9501-46f4dfacb0a0",
   "metadata": {},
   "outputs": [
    {
     "data": {
      "text/plain": [
       "HoursSpentLearningToCode\n",
       "10.0    2471\n",
       "20.0    1734\n",
       "5.0     1659\n",
       "15.0     995\n",
       "30.0     833\n",
       "        ... \n",
       "27.0       1\n",
       "54.0       1\n",
       "64.0       1\n",
       "78.0       1\n",
       "19.0       1\n",
       "Name: count, Length: 73, dtype: int64"
      ]
     },
     "execution_count": 24,
     "metadata": {},
     "output_type": "execute_result"
    }
   ],
   "source": [
    "df['HoursSpentLearningToCode'].value_counts()"
   ]
  },
  {
   "cell_type": "code",
   "execution_count": 28,
   "id": "cca2c130-fb1a-4d53-983b-c9b19e11a7ea",
   "metadata": {},
   "outputs": [
    {
     "data": {
      "text/html": [
       "<div>\n",
       "<style scoped>\n",
       "    .dataframe tbody tr th:only-of-type {\n",
       "        vertical-align: middle;\n",
       "    }\n",
       "\n",
       "    .dataframe tbody tr th {\n",
       "        vertical-align: top;\n",
       "    }\n",
       "\n",
       "    .dataframe thead th {\n",
       "        text-align: right;\n",
       "    }\n",
       "</style>\n",
       "<table border=\"1\" class=\"dataframe\">\n",
       "  <thead>\n",
       "    <tr style=\"text-align: right;\">\n",
       "      <th>IsSoftwareDev</th>\n",
       "      <th>False</th>\n",
       "      <th>True</th>\n",
       "    </tr>\n",
       "    <tr>\n",
       "      <th>NumberOfChildren</th>\n",
       "      <th></th>\n",
       "      <th></th>\n",
       "    </tr>\n",
       "  </thead>\n",
       "  <tbody>\n",
       "    <tr>\n",
       "      <th>1.0</th>\n",
       "      <td>14.548611</td>\n",
       "      <td>13.390909</td>\n",
       "    </tr>\n",
       "    <tr>\n",
       "      <th>2.0</th>\n",
       "      <td>12.784753</td>\n",
       "      <td>11.416357</td>\n",
       "    </tr>\n",
       "    <tr>\n",
       "      <th>3.0</th>\n",
       "      <td>16.071130</td>\n",
       "      <td>12.485437</td>\n",
       "    </tr>\n",
       "    <tr>\n",
       "      <th>4.0</th>\n",
       "      <td>14.973684</td>\n",
       "      <td>11.181818</td>\n",
       "    </tr>\n",
       "    <tr>\n",
       "      <th>5.0</th>\n",
       "      <td>11.935484</td>\n",
       "      <td>8.666667</td>\n",
       "    </tr>\n",
       "    <tr>\n",
       "      <th>6.0</th>\n",
       "      <td>11.750000</td>\n",
       "      <td>10.500000</td>\n",
       "    </tr>\n",
       "    <tr>\n",
       "      <th>7.0</th>\n",
       "      <td>4.000000</td>\n",
       "      <td>NaN</td>\n",
       "    </tr>\n",
       "    <tr>\n",
       "      <th>8.0</th>\n",
       "      <td>NaN</td>\n",
       "      <td>20.000000</td>\n",
       "    </tr>\n",
       "    <tr>\n",
       "      <th>9.0</th>\n",
       "      <td>21.500000</td>\n",
       "      <td>NaN</td>\n",
       "    </tr>\n",
       "    <tr>\n",
       "      <th>10.0</th>\n",
       "      <td>15.000000</td>\n",
       "      <td>4.000000</td>\n",
       "    </tr>\n",
       "    <tr>\n",
       "      <th>12.0</th>\n",
       "      <td>2.000000</td>\n",
       "      <td>NaN</td>\n",
       "    </tr>\n",
       "    <tr>\n",
       "      <th>18.0</th>\n",
       "      <td>NaN</td>\n",
       "      <td>5.000000</td>\n",
       "    </tr>\n",
       "  </tbody>\n",
       "</table>\n",
       "</div>"
      ],
      "text/plain": [
       "IsSoftwareDev         False      True \n",
       "NumberOfChildren                      \n",
       "1.0               14.548611  13.390909\n",
       "2.0               12.784753  11.416357\n",
       "3.0               16.071130  12.485437\n",
       "4.0               14.973684  11.181818\n",
       "5.0               11.935484   8.666667\n",
       "6.0               11.750000  10.500000\n",
       "7.0                4.000000        NaN\n",
       "8.0                     NaN  20.000000\n",
       "9.0               21.500000        NaN\n",
       "10.0              15.000000   4.000000\n",
       "12.0               2.000000        NaN\n",
       "18.0                    NaN   5.000000"
      ]
     },
     "execution_count": 28,
     "metadata": {},
     "output_type": "execute_result"
    }
   ],
   "source": [
    "# grouped_by_children[['HoursSpentLearningToCode', 'IsSoftwareDev']].value_counts()\n",
    "# segment by two features use -> pivot table\n",
    "df.pivot_table(\n",
    "    index='NumberOfChildren',\n",
    "    columns='IsSoftwareDev',\n",
    "    values='HoursSpentLearningToCode'\n",
    ")"
   ]
  },
  {
   "cell_type": "code",
   "execution_count": 29,
   "id": "c629355f-bd8f-42a7-8fd1-a69fd5049116",
   "metadata": {},
   "outputs": [
    {
     "data": {
      "text/html": [
       "<div>\n",
       "<style scoped>\n",
       "    .dataframe tbody tr th:only-of-type {\n",
       "        vertical-align: middle;\n",
       "    }\n",
       "\n",
       "    .dataframe tbody tr th {\n",
       "        vertical-align: top;\n",
       "    }\n",
       "\n",
       "    .dataframe thead th {\n",
       "        text-align: right;\n",
       "    }\n",
       "</style>\n",
       "<table border=\"1\" class=\"dataframe\">\n",
       "  <thead>\n",
       "    <tr style=\"text-align: right;\">\n",
       "      <th>IsSoftwareDev</th>\n",
       "      <th>False</th>\n",
       "      <th>True</th>\n",
       "    </tr>\n",
       "    <tr>\n",
       "      <th>NumberOfChildren</th>\n",
       "      <th></th>\n",
       "      <th></th>\n",
       "    </tr>\n",
       "  </thead>\n",
       "  <tbody>\n",
       "    <tr>\n",
       "      <th>1.0</th>\n",
       "      <td>10475.0</td>\n",
       "      <td>4419.0</td>\n",
       "    </tr>\n",
       "    <tr>\n",
       "      <th>2.0</th>\n",
       "      <td>8553.0</td>\n",
       "      <td>3071.0</td>\n",
       "    </tr>\n",
       "    <tr>\n",
       "      <th>3.0</th>\n",
       "      <td>3841.0</td>\n",
       "      <td>1286.0</td>\n",
       "    </tr>\n",
       "    <tr>\n",
       "      <th>4.0</th>\n",
       "      <td>1138.0</td>\n",
       "      <td>369.0</td>\n",
       "    </tr>\n",
       "    <tr>\n",
       "      <th>5.0</th>\n",
       "      <td>370.0</td>\n",
       "      <td>52.0</td>\n",
       "    </tr>\n",
       "    <tr>\n",
       "      <th>6.0</th>\n",
       "      <td>94.0</td>\n",
       "      <td>21.0</td>\n",
       "    </tr>\n",
       "    <tr>\n",
       "      <th>7.0</th>\n",
       "      <td>4.0</td>\n",
       "      <td>NaN</td>\n",
       "    </tr>\n",
       "    <tr>\n",
       "      <th>8.0</th>\n",
       "      <td>NaN</td>\n",
       "      <td>20.0</td>\n",
       "    </tr>\n",
       "    <tr>\n",
       "      <th>9.0</th>\n",
       "      <td>43.0</td>\n",
       "      <td>NaN</td>\n",
       "    </tr>\n",
       "    <tr>\n",
       "      <th>10.0</th>\n",
       "      <td>15.0</td>\n",
       "      <td>4.0</td>\n",
       "    </tr>\n",
       "    <tr>\n",
       "      <th>12.0</th>\n",
       "      <td>2.0</td>\n",
       "      <td>NaN</td>\n",
       "    </tr>\n",
       "    <tr>\n",
       "      <th>15.0</th>\n",
       "      <td>NaN</td>\n",
       "      <td>0.0</td>\n",
       "    </tr>\n",
       "    <tr>\n",
       "      <th>18.0</th>\n",
       "      <td>NaN</td>\n",
       "      <td>5.0</td>\n",
       "    </tr>\n",
       "  </tbody>\n",
       "</table>\n",
       "</div>"
      ],
      "text/plain": [
       "IsSoftwareDev       False   True \n",
       "NumberOfChildren                 \n",
       "1.0               10475.0  4419.0\n",
       "2.0                8553.0  3071.0\n",
       "3.0                3841.0  1286.0\n",
       "4.0                1138.0   369.0\n",
       "5.0                 370.0    52.0\n",
       "6.0                  94.0    21.0\n",
       "7.0                   4.0     NaN\n",
       "8.0                   NaN    20.0\n",
       "9.0                  43.0     NaN\n",
       "10.0                 15.0     4.0\n",
       "12.0                  2.0     NaN\n",
       "15.0                  NaN     0.0\n",
       "18.0                  NaN     5.0"
      ]
     },
     "execution_count": 29,
     "metadata": {},
     "output_type": "execute_result"
    }
   ],
   "source": [
    "df.pivot_table(\n",
    "    index='NumberOfChildren',\n",
    "    columns='IsSoftwareDev',\n",
    "    values='HoursSpentLearningToCode',\n",
    "    aggfunc='sum'\n",
    ")"
   ]
  },
  {
   "cell_type": "code",
   "execution_count": null,
   "id": "96857bb2-ae8d-4f1c-b2d8-c4d678c271e0",
   "metadata": {},
   "outputs": [],
   "source": []
  },
  {
   "cell_type": "code",
   "execution_count": null,
   "id": "a9f8c53a-eb2b-46ba-84ba-cbedbb8bca9f",
   "metadata": {},
   "outputs": [],
   "source": []
  }
 ],
 "metadata": {
  "kernelspec": {
   "display_name": "Python 3 (ipykernel)",
   "language": "python",
   "name": "python3"
  },
  "language_info": {
   "codemirror_mode": {
    "name": "ipython",
    "version": 3
   },
   "file_extension": ".py",
   "mimetype": "text/x-python",
   "name": "python",
   "nbconvert_exporter": "python",
   "pygments_lexer": "ipython3",
   "version": "3.11.6"
  }
 },
 "nbformat": 4,
 "nbformat_minor": 5
}
